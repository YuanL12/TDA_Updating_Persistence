{
 "cells": [
  {
   "cell_type": "code",
   "execution_count": 2,
   "id": "c8f2ed28",
   "metadata": {},
   "outputs": [],
   "source": [
    "import bats\n",
    "import numpy as np\n",
    "import matplotlib.pyplot as plt\n",
    "import time\n",
    "import scipy.spatial.distance as distance"
   ]
  },
  {
   "cell_type": "code",
   "execution_count": 9,
   "id": "207d7301",
   "metadata": {},
   "outputs": [],
   "source": [
    "# enc radius\n",
    "# dmax is dimension of complex\n",
    "# will compue H_0, H_1, ..., until H_{dmax-1}\n",
    "# default flag: clearing with basis\n",
    "def BATS_rips_enc(F_X, dmax = 2, degree = +1,\n",
    "flags = (bats.standard_reduction_flag(), bats.clearing_flag(), bats.compute_basis_flag())):\n",
    "#     t0 = time.monotonic()\n",
    "#     DX = distance.squareform(distance.pdist(X))\n",
    "#     rX = bats.enclosing_radius(bats.Matrix(DX))\n",
    "#     F_X = bats.LightRipsFiltration(bats.Matrix(DX), rX, dmax)\n",
    "    FVS = bats.FilteredF2DGVectorSpace(F_X, degree)\n",
    "    RFVS = bats.ReducedFilteredF2DGVectorSpace(FVS, *flags)\n",
    "#     t1 = time.monotonic()\n",
    "    return RFVS"
   ]
  },
  {
   "cell_type": "code",
   "execution_count": null,
   "id": "8b5bd8e0",
   "metadata": {},
   "outputs": [],
   "source": [
    "\n",
    "\n",
    "\n",
    "# Update with max radius (see the effect of permutations)\n",
    "# Note: update must include flag bats.compute_basis_flag()\n",
    "# dmax is max dimension of complex\n",
    "def time_BATS_update_full_rips(X, Y, rX = np.inf, rY = np.inf, dmax = 2, degree = +1,\n",
    "flags = (bats.standard_reduction_flag(), bats.clearing_flag(), bats.compute_basis_flag())):\n",
    "    # computation on X\n",
    "    F_X = bats.LightRipsFiltration(bats.DataSet(bats.Matrix(X)), bats.Euclidean(), rX, dmax)\n",
    "    FVS = bats.FilteredF2DGVectorSpace(F_X, degree)\n",
    "    RFVS = bats.ReducedFilteredF2DGVectorSpace(FVS, *flags) \n",
    "\n",
    "    # return time spent on updating Y\n",
    "    t0 = time.monotonic()\n",
    "    F_Y = bats.LightRipsFiltration(bats.DataSet(bats.Matrix(Y)), bats.Euclidean(), rY, dmax)\n",
    "    UI = bats.UpdateInfo2(F_X, F_Y)\n",
    "    RFVS.update(UI)\n",
    "    t1 = time.monotonic()\n",
    "    # print(\"Update: {} sec.\".format(t1 - t0))\n",
    "    return t1-t0\n",
    "\n",
    "# Update with enc radius (see the effect of permutations/addition/deletion)\n",
    "def time_BATS_update_enc_rips(X, Y, dmax = 2, degree = +1,\n",
    "flags = (bats.standard_reduction_flag(), bats.clearing_flag(), bats.compute_basis_flag())):\n",
    "    # computation on X\n",
    "    DX = distance.squareform(distance.pdist(X))\n",
    "    rX = bats.enclosing_radius(bats.Matrix(DX))\n",
    "    F_X = bats.LightRipsFiltration(bats.Matrix(DX), rX, dmax)\n",
    "    FVS = bats.FilteredF2DGVectorSpace(F_X, degree)\n",
    "    RFVS = bats.ReducedFilteredF2DGVectorSpace(FVS, *flags) \n",
    "\n",
    "    # return time spent on updating Y\n",
    "    t0 = time.monotonic()\n",
    "    DY = distance.squareform(distance.pdist(Y))\n",
    "    rY = bats.enclosing_radius(bats.Matrix(DY))\n",
    "    F_Y = bats.LightRipsFiltration(bats.Matrix(DY), rY, dmax)\n",
    "    UI = bats.UpdateInfo2(F_X, F_Y)\n",
    "    RFVS.update(UI)\n",
    "    t1 = time.monotonic()\n",
    "    # print(\"Update: {} sec.\".format(t1 - t0))\n",
    "    return t1-t0\n"
   ]
  },
  {
   "cell_type": "code",
   "execution_count": 12,
   "id": "1a783bc6",
   "metadata": {},
   "outputs": [
    {
     "data": {
      "image/png": "[encoded data removed]",
      "text/plain": [
       "<Figure size 432x288 with 1 Axes>"
      ]
     },
     "metadata": {
      "needs_background": "light"
     },
     "output_type": "display_data"
    }
   ],
   "source": [
    "n = 100\n",
    "X = np.random.uniform(0,1,(n,2))\n",
    "# X = X / np.linalg.norm(X, axis=1).reshape(-1,1)\n",
    "# X = X + np.random.normal(size=(n,2), scale = 0.1 )\n",
    "fig1 = plt.scatter(X[:,0], X[:,1])\n",
    "fig1.axes.set_aspect('equal')\n",
    "# plt.savefig('orginal_dataset_rips.png')\n",
    "# plt.clf()"
   ]
  },
  {
   "cell_type": "code",
   "execution_count": 23,
   "id": "f88e4d74",
   "metadata": {},
   "outputs": [
    {
     "data": {
      "image/png": "[encoded data removed]",
      "text/plain": [
       "<Figure size 432x288 with 1 Axes>"
      ]
     },
     "metadata": {
      "needs_background": "light"
     },
     "output_type": "display_data"
    }
   ],
   "source": [
    "n = 100\n",
    "X = np.random.uniform(0,1,(n,2))\n",
    "fig1 = plt.scatter(X[:,0], X[:,1])\n",
    "fig1.axes.set_aspect('equal')\n",
    "# plt.savefig('orginal_dataset_rips.png')\n",
    "# plt.clf()\n",
    "\n",
    "nnz_ = []\n",
    "tlist = []\n",
    "lr = 1e-2 # persistence penalty\n",
    "\n",
    "\n",
    "t0 = time.monotonic()\n",
    "DX = distance.squareform(distance.pdist(X))\n",
    "rX = bats.enclosing_radius(bats.Matrix(DX))\n",
    "F, imap = bats.LightRipsFiltration_extension(bats.Matrix(DX), rX , 2)\n",
    "# R = bats.reduce(F, bats.F2())\n",
    "R = BATS_rips_enc(F, degree = -1)\n",
    "t1 = time.monotonic()\n",
    "#print(\"initialization: {} sec.\".format(t1-t0))\n",
    "F_old = F\n",
    "\n",
    "iter_times = 200\n",
    "for i in range(iter_times):\n",
    "#     print(\"iter\", i)\n",
    "    # Optimize H1 length\n",
    "    # get 1-dimensional pairs\n",
    "    \n",
    "    ps = R.persistence_pairs(1)\n",
    "    t1a = time.monotonic()\n",
    "    #print(\"\\tfind pairs: {} sec.\".format(t1a - t0))\n",
    "    \n",
    "    t0b = time.monotonic()\n",
    "    complex_old = F_old.complex() # complex of filtration\n",
    "    filtration_vals_old = F_old.vals(1) # filtration vals at dimension 1\n",
    "    \n",
    "    # change the posistion of two vertices \n",
    "    # that are related to the birth of the persistence pair\n",
    "\n",
    "    #print(\"rX = \", rX)\n",
    "    for p in ps:\n",
    "        if p.length() > 0:\n",
    "        # if p.length() > 0 and np.abs(p.birth() - rX) > 1e-4:\n",
    "            #print(p)\n",
    "            d = p.dim()\n",
    "            # get indices of two vertices of the (birth) edge \n",
    "            bi = p.birth_ind() # index of birth edge \n",
    "            [birth_vertex1_i, birth_vertex2_i] = complex_old.get_simplex(1, bi)\n",
    "            # Gradient Descent\n",
    "            grad_div_2 = 2 * (p.death() - p.birth())* (X[birth_vertex1_i] - X[birth_vertex2_i])\n",
    "            X[birth_vertex1_i] -=  (lr/ filtration_vals_old[bi]) * (grad_div_2)\n",
    "            X[birth_vertex2_i] +=  (lr/ filtration_vals_old[bi]) * (grad_div_2)\n",
    "            #print(\"update birth success\")\n",
    "            # get the death index of related edge\n",
    "            if p.death_ind() > len(imap[d+1])-1:\n",
    "                print(\"death index exceed limit: \", p.death_ind()) \n",
    "                print(\"p is \", p)\n",
    "            \n",
    "            if p.death() != float('inf') and p.death_ind() <= len(imap[d+1])-1:\n",
    "                di = imap[d+1][p.death_ind()] # maps death_ind to the death edge (related to the 2-simplex destroys H1)\n",
    "                # get index of two vertices of the (birth) edge \n",
    "                [death_vertex1_i, death_vertex2_i] = complex_old.get_simplex(1, di)\n",
    "                # Gradient Descent\n",
    "                grad_div_2 = 2 * (p.death() - p.birth()) *  (X[death_vertex1_i] - X[death_vertex2_i])\n",
    "                X[death_vertex1_i] +=  (lr/ filtration_vals_old[di]) * (grad_div_2)\n",
    "                X[death_vertex2_i] -=  (lr/ filtration_vals_old[di]) * (grad_div_2)\n",
    "                #print(\"update death success\")\n",
    "            \n",
    "        \n",
    "    # Update Persistence\n",
    "    t0 = time.monotonic()\n",
    "    DX = distance.squareform(distance.pdist(X))\n",
    "    rX = bats.enclosing_radius(bats.Matrix(DX))\n",
    "    F_new, imap = bats.LightRipsFiltration_extension(bats.Matrix(DX), rX, 2)\n",
    "#     UI = bats.UpdateInfoLightFiltration(F_old, F_new)\n",
    "#     R.update_filtration_general(UI)\n",
    "    UI = bats.UpdateInfo2(F_old, F_new)\n",
    "    R.update(UI)\n",
    "    t1 = time.monotonic()\n",
    "    tlist.append(t1 - t0)\n",
    "    \n",
    "    # Set old Filtration    \n",
    "    F_old = F_new\n"
   ]
  },
  {
   "cell_type": "code",
   "execution_count": 24,
   "id": "608d96f9",
   "metadata": {},
   "outputs": [
    {
     "data": {
      "image/png": "[encoded data removed]",
      "text/plain": [
       "<Figure size 432x288 with 1 Axes>"
      ]
     },
     "metadata": {
      "needs_background": "light"
     },
     "output_type": "display_data"
    }
   ],
   "source": [
    "fig2 = plt.scatter(X[:,0], X[:,1])\n",
    "fig2.axes.set_aspect('equal')"
   ]
  },
  {
   "cell_type": "code",
   "execution_count": 17,
   "id": "0aa04fdb",
   "metadata": {},
   "outputs": [],
   "source": [
    "\n",
    "tlist = np.array(tlist)"
   ]
  },
  {
   "cell_type": "code",
   "execution_count": 16,
   "id": "2bc94a36",
   "metadata": {},
   "outputs": [
    {
     "data": {
      "image/png": "[encoded data removed]",
      "text/plain": [
       "<Figure size 432x288 with 1 Axes>"
      ]
     },
     "metadata": {
      "needs_background": "light"
     },
     "output_type": "display_data"
    }
   ],
   "source": [
    "fig2 = plt.scatter(X[:,0], X[:,1])\n",
    "fig2.axes.set_aspect('equal')\n",
    "# plt.savefig('optimized_dataset_rips.png')\n",
    "# plt.clf()\n",
    "\n",
    "# fig3 = plt.figure(figsize=(8, 6))\n",
    "# plt.subplot(2, 1, 1)\n",
    "# plt.title('Sum of non-zeros in U and R v.s. number of iterations n')\n",
    "# plt.plot(np.arange(iter_times), nnz_, c = 'g')\n",
    "# plt.xlabel('number of iterations n')\n",
    "# plt.ylabel('number of non-zeros')\n",
    "\n",
    "\n",
    "# plt.subplot(2, 1, 2)\n",
    "# plt.title('Updating Time v.s. Sum of non-zeros of U and R')\n",
    "# plt.scatter(nnz_, tlist, c = 'r')\n",
    "# plt.xlabel('number of non-zeros')\n",
    "# plt.ylabel('Time')\n",
    "\n",
    "# fig3.tight_layout()\n",
    "# plt.savefig('opt_rips_results.png')\n",
    "# plt.clf()"
   ]
  },
  {
   "cell_type": "code",
   "execution_count": null,
   "id": "ca1b54d9",
   "metadata": {},
   "outputs": [],
   "source": []
  }
 ],
 "metadata": {
  "kernelspec": {
   "display_name": "Python 3.9.7 ('bats')",
   "language": "python",
   "name": "python3"
  },
  "language_info": {
   "codemirror_mode": {
    "name": "ipython",
    "version": 3
   },
   "file_extension": ".py",
   "mimetype": "text/x-python",
   "name": "python",
   "nbconvert_exporter": "python",
   "pygments_lexer": "ipython3",
   "version": "3.9.7"
  },
  "vscode": {
   "interpreter": {
    "hash": "d046be559ae0a6626eb74740e27060a68342e9f6330bb84d38e26ab33ff95788"
   }
  }
 },
 "nbformat": 4,
 "nbformat_minor": 5
}
