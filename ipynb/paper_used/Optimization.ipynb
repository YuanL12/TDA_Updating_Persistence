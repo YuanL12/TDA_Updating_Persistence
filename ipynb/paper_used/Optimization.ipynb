{
 "cells": [
  {
   "cell_type": "code",
   "execution_count": 1,
   "id": "408cc2ee",
   "metadata": {},
   "outputs": [],
   "source": [
    "import csv"
   ]
  },
  {
   "cell_type": "code",
   "execution_count": 2,
   "id": "34b7b5bb",
   "metadata": {},
   "outputs": [
    {
     "data": {
      "text/plain": [
       "<Figure size 432x288 with 0 Axes>"
      ]
     },
     "metadata": {},
     "output_type": "display_data"
    }
   ],
   "source": [
    "import bats\n",
    "import numpy as np\n",
    "import matplotlib.pyplot as plt\n",
    "import time\n",
    "import scipy.spatial.distance as distance\n",
    "\n",
    "n = 100\n",
    "X = np.random.uniform(0,1,(n,2))\n",
    "# X = X / np.linalg.norm(X, axis=1).reshape(-1,1)\n",
    "# X = X + np.random.normal(size=(n,2), scale = 0.1 )\n",
    "fig1 = plt.scatter(X[:,0], X[:,1])\n",
    "fig1.axes.set_aspect('equal')\n",
    "plt.savefig('orginal_dataset_rips.png')\n",
    "plt.clf()"
   ]
  },
  {
   "cell_type": "code",
   "execution_count": 3,
   "id": "b1999b9c",
   "metadata": {},
   "outputs": [],
   "source": [
    "nnz_ = []\n",
    "tlist = []\n",
    "lr = 1e-2 # persistence penalty\n",
    "\n",
    "\n",
    "t0 = time.monotonic()\n",
    "DX = distance.squareform(distance.pdist(X))\n",
    "rX = bats.enclosing_radius(bats.Matrix(DX))\n",
    "F, imap = bats.LightRipsFiltration_extension(bats.Matrix(DX), rX , 2)\n",
    "R = bats.reduce(F, bats.F2())\n",
    "t1 = time.monotonic()\n",
    "#print(\"initialization: {} sec.\".format(t1-t0))\n",
    "F_old = F\n",
    "\n",
    "iter_times = 10\n",
    "for i in range(iter_times):\n",
    "    t_iter = []\n",
    "    nnz_iter = []\n",
    "    #print(\"iter\", i)\n",
    "    # Optimize H1 length\n",
    "    # get 1-dimensional pairs\n",
    "    t0 = time.monotonic()\n",
    "    ps = R.persistence_pairs(1)\n",
    "    t1a = time.monotonic()\n",
    "    #print(\"\\tfind pairs: {} sec.\".format(t1a - t0))\n",
    "    \n",
    "    t0b = time.monotonic()\n",
    "    complex_old = F_old.complex() # complex of filtration\n",
    "    filtration_vals_old = F_old.vals(1) # filtration vals at dimension 1\n",
    "    \n",
    "    # change the posistion of two vertices \n",
    "    # that are related to the birth of the persistence pair\n",
    "\n",
    "    #print(\"rX = \", rX)\n",
    "    for p in ps:\n",
    "        if p.length() > 0:\n",
    "        # if p.length() > 0 and np.abs(p.birth() - rX) > 1e-4:\n",
    "            #print(p)\n",
    "            d = p.dim()\n",
    "            # get indices of two vertices of the (birth) edge \n",
    "            bi = p.birth_ind() # index of birth edge \n",
    "            [birth_vertex1_i, birth_vertex2_i] = complex_old.get_simplex(1, bi)\n",
    "            # Gradient Descent\n",
    "            grad_div_2 = 2 * (p.death() - p.birth())* (X[birth_vertex1_i] - X[birth_vertex2_i])\n",
    "            X[birth_vertex1_i] -=  (lr/ filtration_vals_old[bi]) * (grad_div_2)\n",
    "            X[birth_vertex2_i] +=  (lr/ filtration_vals_old[bi]) * (grad_div_2)\n",
    "            #print(\"update birth success\")\n",
    "            # get the death index of related edge\n",
    "            if p.death_ind() > len(imap[d+1])-1:\n",
    "                print(\"death index exceed limit: \", p.death_ind()) \n",
    "                print(\"p is \", p)\n",
    "            \n",
    "            if p.death() != float('inf') and p.death_ind() <= len(imap[d+1])-1:\n",
    "                di = imap[d+1][p.death_ind()] # maps death_ind to the death edge (related to the 2-simplex destroys H1)\n",
    "                # get index of two vertices of the (birth) edge \n",
    "                [death_vertex1_i, death_vertex2_i] = complex_old.get_simplex(1, di)\n",
    "                # Gradient Descent\n",
    "                grad_div_2 = 2 * (p.death() - p.birth()) *  (X[death_vertex1_i] - X[death_vertex2_i])\n",
    "                X[death_vertex1_i] +=  (lr/ filtration_vals_old[di]) * (grad_div_2)\n",
    "                X[death_vertex2_i] -=  (lr/ filtration_vals_old[di]) * (grad_div_2)\n",
    "                #print(\"update death success\")\n",
    "            \n",
    "        \n",
    "    t1b = time.monotonic()\n",
    "    #print(\"\\tUpdate Dataset: {} sec.\".format(t1b - t0b))\n",
    "    \n",
    "    # extend filtration\n",
    "    t0c = time.monotonic()\n",
    "    DX = distance.squareform(distance.pdist(X))\n",
    "    rX = bats.enclosing_radius(bats.Matrix(DX))\n",
    "    F_new, imap = bats.LightRipsFiltration_extension(bats.Matrix(DX), rX, 2)\n",
    "    t1c = time.monotonic()\n",
    "    #print(\"\\textension: {} sec.\".format(t1c - t0c))\n",
    "    \n",
    "    # Rebuild\n",
    "    t0_reb = time.monotonic()\n",
    "    R_reb = bats.reduce(F_new, bats.F2()) # reduce with F2 coefficients\n",
    "    t1_reb = time.monotonic()\n",
    "    t_iter.append(t1_reb - t0_reb)\n",
    "    nnz_iter.append(np.sum(R_reb.nnz_U() + R_reb.nnz_R()))\n",
    "    \n",
    "    \n",
    "    # Find Updating Information and Update\n",
    "    t0d = time.monotonic()\n",
    "    UI = bats.UpdateInfoLightFiltration(F_old, F_new)\n",
    "    R.update_filtration_general(UI)\n",
    "    t1d = time.monotonic()\n",
    "    #print(\"\\tupdate: {} sec.\".format(t1e - t0e))\n",
    "    \n",
    "    # Record updating time and nnz\n",
    "    nnz_iter.append(np.sum(R.nnz_U() + R.nnz_R()))\n",
    "    t_iter.append(t1d - t0d)\n",
    "    \n",
    "    tlist.append(t_iter)\n",
    "    nnz_.append(nnz_iter)\n",
    "    \n",
    "    # Set old Filtration    \n",
    "    F_old = F_new\n",
    "    \n",
    "    t1 = time.monotonic()\n",
    "    #print(\"All: {} sec.\".format(t1-t0))"
   ]
  },
  {
   "cell_type": "code",
   "execution_count": null,
   "id": "5b06de94",
   "metadata": {},
   "outputs": [],
   "source": []
  },
  {
   "cell_type": "code",
   "execution_count": 4,
   "id": "d8f83011",
   "metadata": {},
   "outputs": [],
   "source": [
    "header = ['rebuild','update','nnz_reb', 'nnz_upd'] # set header of csv file\n",
    "data = []\n",
    "\n",
    "with open('opt_enc_rips.csv', 'w', encoding='UTF8', newline='') as f:\n",
    "    writer = csv.writer(f)\n",
    "    \n",
    "    # write the header\n",
    "    writer.writerow(header)\n",
    "    \n",
    "    data = np.concatenate((tlist, nnz_), axis=1)\n",
    "    \n",
    "    # write multiple rows\n",
    "    writer.writerows(data)"
   ]
  },
  {
   "cell_type": "code",
   "execution_count": 5,
   "id": "c44447d0",
   "metadata": {},
   "outputs": [
    {
     "data": {
      "text/html": [
       "<div>\n",
       "<style scoped>\n",
       "    .dataframe tbody tr th:only-of-type {\n",
       "        vertical-align: middle;\n",
       "    }\n",
       "\n",
       "    .dataframe tbody tr th {\n",
       "        vertical-align: top;\n",
       "    }\n",
       "\n",
       "    .dataframe thead th {\n",
       "        text-align: right;\n",
       "    }\n",
       "</style>\n",
       "<table border=\"1\" class=\"dataframe\">\n",
       "  <thead>\n",
       "    <tr style=\"text-align: right;\">\n",
       "      <th></th>\n",
       "      <th>rebuild</th>\n",
       "      <th>update</th>\n",
       "      <th>nnz_reb</th>\n",
       "      <th>nnz_upd</th>\n",
       "    </tr>\n",
       "  </thead>\n",
       "  <tbody>\n",
       "    <tr>\n",
       "      <th>0</th>\n",
       "      <td>0.449734</td>\n",
       "      <td>0.084840</td>\n",
       "      <td>1522762.0</td>\n",
       "      <td>1524009.0</td>\n",
       "    </tr>\n",
       "    <tr>\n",
       "      <th>1</th>\n",
       "      <td>0.382177</td>\n",
       "      <td>0.064135</td>\n",
       "      <td>1507233.0</td>\n",
       "      <td>1508551.0</td>\n",
       "    </tr>\n",
       "    <tr>\n",
       "      <th>2</th>\n",
       "      <td>0.320435</td>\n",
       "      <td>0.082473</td>\n",
       "      <td>1497773.0</td>\n",
       "      <td>1490913.0</td>\n",
       "    </tr>\n",
       "    <tr>\n",
       "      <th>3</th>\n",
       "      <td>0.324213</td>\n",
       "      <td>0.119659</td>\n",
       "      <td>1489249.0</td>\n",
       "      <td>1481864.0</td>\n",
       "    </tr>\n",
       "    <tr>\n",
       "      <th>4</th>\n",
       "      <td>0.302962</td>\n",
       "      <td>0.099619</td>\n",
       "      <td>1484633.0</td>\n",
       "      <td>1460938.0</td>\n",
       "    </tr>\n",
       "    <tr>\n",
       "      <th>...</th>\n",
       "      <td>...</td>\n",
       "      <td>...</td>\n",
       "      <td>...</td>\n",
       "      <td>...</td>\n",
       "    </tr>\n",
       "    <tr>\n",
       "      <th>95</th>\n",
       "      <td>0.274233</td>\n",
       "      <td>0.132834</td>\n",
       "      <td>1498801.0</td>\n",
       "      <td>1743871.0</td>\n",
       "    </tr>\n",
       "    <tr>\n",
       "      <th>96</th>\n",
       "      <td>0.279349</td>\n",
       "      <td>0.131164</td>\n",
       "      <td>1686567.0</td>\n",
       "      <td>1761196.0</td>\n",
       "    </tr>\n",
       "    <tr>\n",
       "      <th>97</th>\n",
       "      <td>0.267979</td>\n",
       "      <td>0.126614</td>\n",
       "      <td>1553083.0</td>\n",
       "      <td>1766116.0</td>\n",
       "    </tr>\n",
       "    <tr>\n",
       "      <th>98</th>\n",
       "      <td>0.264723</td>\n",
       "      <td>0.103572</td>\n",
       "      <td>1655778.0</td>\n",
       "      <td>1746657.0</td>\n",
       "    </tr>\n",
       "    <tr>\n",
       "      <th>99</th>\n",
       "      <td>0.277729</td>\n",
       "      <td>0.107043</td>\n",
       "      <td>1667078.0</td>\n",
       "      <td>1742434.0</td>\n",
       "    </tr>\n",
       "  </tbody>\n",
       "</table>\n",
       "<p>100 rows × 4 columns</p>\n",
       "</div>"
      ],
      "text/plain": [
       "     rebuild    update    nnz_reb    nnz_upd\n",
       "0   0.449734  0.084840  1522762.0  1524009.0\n",
       "1   0.382177  0.064135  1507233.0  1508551.0\n",
       "2   0.320435  0.082473  1497773.0  1490913.0\n",
       "3   0.324213  0.119659  1489249.0  1481864.0\n",
       "4   0.302962  0.099619  1484633.0  1460938.0\n",
       "..       ...       ...        ...        ...\n",
       "95  0.274233  0.132834  1498801.0  1743871.0\n",
       "96  0.279349  0.131164  1686567.0  1761196.0\n",
       "97  0.267979  0.126614  1553083.0  1766116.0\n",
       "98  0.264723  0.103572  1655778.0  1746657.0\n",
       "99  0.277729  0.107043  1667078.0  1742434.0\n",
       "\n",
       "[100 rows x 4 columns]"
      ]
     },
     "execution_count": 5,
     "metadata": {},
     "output_type": "execute_result"
    }
   ],
   "source": [
    "import pandas as pd\n",
    "df = pd.read_csv('opt_enc_rips.csv')\n",
    "df"
   ]
  },
  {
   "cell_type": "code",
   "execution_count": 6,
   "id": "c05d53f5",
   "metadata": {},
   "outputs": [
    {
     "data": {
      "text/plain": [
       "<Figure size 432x288 with 0 Axes>"
      ]
     },
     "metadata": {},
     "output_type": "display_data"
    }
   ],
   "source": [
    "fig2 = plt.scatter(X[:,0], X[:,1])\n",
    "fig2.axes.set_aspect('equal')\n",
    "plt.savefig('optimized_dataset_rips.png')\n",
    "plt.clf()"
   ]
  },
  {
   "cell_type": "code",
   "execution_count": 47,
   "id": "c4c66b85",
   "metadata": {},
   "outputs": [
    {
     "data": {
      "text/plain": [
       "<Figure size 432x288 with 0 Axes>"
      ]
     },
     "metadata": {},
     "output_type": "display_data"
    }
   ],
   "source": [
    "fig = plt.scatter(range(100) , np.array(df['rebuild']), label = 'rebuild')\n",
    "plt.scatter(range(100) , np.array(df['update']), label = 'update')\n",
    "plt.legend()\n",
    "plt.xlabel('iteration')\n",
    "plt.ylabel('time')\n",
    "plt.savefig('rips_opt_comparison.png')\n",
    "plt.clf()"
   ]
  },
  {
   "cell_type": "code",
   "execution_count": 16,
   "id": "25c44970",
   "metadata": {},
   "outputs": [
    {
     "data": {
      "text/plain": [
       "2.5362854852004646"
      ]
     },
     "execution_count": 16,
     "metadata": {},
     "output_type": "execute_result"
    }
   ],
   "source": [
    "np.mean(np.array(df['rebuild']) / np.array(df['update']))"
   ]
  },
  {
   "cell_type": "markdown",
   "id": "15c7902b",
   "metadata": {},
   "source": [
    "## Observation\n",
    "Updating time have a linear relationship between the number of non-zeros. "
   ]
  },
  {
   "cell_type": "code",
   "execution_count": 27,
   "id": "4665146c",
   "metadata": {},
   "outputs": [],
   "source": [
    "from scipy.stats import spearmanr\n",
    "corr1, _ = spearmanr(np.array(df['rebuild']), np.log(np.array(df['nnz_reb'])))\n",
    "print('Spearmans correlation: %.3f' % corr1)\n",
    "\n",
    "corr2, _ = spearmanr(df['update'], np.log(df['nnz_upd']))\n",
    "print('Spearmans correlation: %.3f' % corr2)\n",
    "corr1, corr2"
   ]
  },
  {
   "cell_type": "code",
   "execution_count": 40,
   "id": "cefd9586",
   "metadata": {},
   "outputs": [
    {
     "data": {
      "text/plain": [
       "<matplotlib.legend.Legend at 0x7f3383b20210>"
      ]
     },
     "execution_count": 40,
     "metadata": {},
     "output_type": "execute_result"
    },
    {
     "data": {
      "image/png": "[encoded data removed]",
      "text/plain": [
       "<Figure size 432x288 with 1 Axes>"
      ]
     },
     "metadata": {
      "needs_background": "light"
     },
     "output_type": "display_data"
    }
   ],
   "source": [
    "plt.scatter(df['rebuild'], np.log(df['nnz_reb']), label = 'rebuild with correlation = %.3f' % corr1)\n",
    "plt.scatter(df['update'], np.log(df['nnz_upd']), label = 'update with correlation = %.3f' % corr2)\n",
    "plt.xlabel('time')\n",
    "plt.ylabel('log(nnz)')\n",
    "plt.legend()"
   ]
  },
  {
   "cell_type": "code",
   "execution_count": 38,
   "id": "f0cd2a40",
   "metadata": {},
   "outputs": [
    {
     "name": "stdout",
     "output_type": "stream",
     "text": [
      "Spearmans correlation: 0.409\n",
      "Spearmans correlation: 0.704\n"
     ]
    },
    {
     "data": {
      "text/plain": [
       "(0.4092169216921691, 0.7035223522352234)"
      ]
     },
     "execution_count": 38,
     "metadata": {},
     "output_type": "execute_result"
    }
   ],
   "source": []
  },
  {
   "cell_type": "code",
   "execution_count": 35,
   "id": "baf7dbc1",
   "metadata": {},
   "outputs": [],
   "source": [
    "spearmanr?"
   ]
  },
  {
   "cell_type": "code",
   "execution_count": null,
   "id": "d474f7d5",
   "metadata": {},
   "outputs": [],
   "source": [
    "fig3 = plt.figure(figsize=(8, 6))\n",
    "plt.subplot(2, 1, 1)\n",
    "plt.title('Sum of non-zeros in U and R v.s. number of iterations n')\n",
    "plt.plot(np.arange(iter_times), nnz_, c = 'g')\n",
    "plt.xlabel('number of iterations n')\n",
    "plt.ylabel('number of non-zeros')\n",
    "\n",
    "\n",
    "plt.subplot(2, 1, 2)\n",
    "plt.title('Updating Time v.s. Sum of non-zeros of U and R')\n",
    "plt.scatter(nnz_, tlist, c = 'r')\n",
    "plt.xlabel('number of non-zeros')\n",
    "plt.ylabel('Time')\n",
    "\n",
    "fig3.tight_layout()\n",
    "plt.savefig('opt_rips_results.png')\n",
    "plt.clf()"
   ]
  },
  {
   "cell_type": "code",
   "execution_count": null,
   "id": "0b88a48e",
   "metadata": {},
   "outputs": [],
   "source": []
  }
 ],
 "metadata": {
  "kernelspec": {
   "display_name": "Python [conda env:bats] *",
   "language": "python",
   "name": "conda-env-bats-py"
  },
  "language_info": {
   "codemirror_mode": {
    "name": "ipython",
    "version": 3
   },
   "file_extension": ".py",
   "mimetype": "text/x-python",
   "name": "python",
   "nbconvert_exporter": "python",
   "pygments_lexer": "ipython3",
   "version": "3.7.10"
  }
 },
 "nbformat": 4,
 "nbformat_minor": 5
}
