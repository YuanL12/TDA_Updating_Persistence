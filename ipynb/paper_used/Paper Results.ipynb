{
 "cells": [
  {
   "cell_type": "markdown",
   "id": "afe88bc0",
   "metadata": {},
   "source": [
    "## Rips Experiemnt 1\n",
    "goal: to find a good example to show our updating scheme performance"
   ]
  },
  {
   "cell_type": "code",
   "execution_count": 1,
   "id": "e3494809",
   "metadata": {},
   "outputs": [],
   "source": [
    "import bats\n",
    "import numpy as np\n",
    "import matplotlib.pyplot as plt\n",
    "import time\n",
    "import scipy.spatial.distance as distance\n",
    "import csv \n",
    "import pandas as pd"
   ]
  },
  {
   "cell_type": "code",
   "execution_count": 2,
   "id": "6cd1eb93",
   "metadata": {},
   "outputs": [],
   "source": [
    "def time_BATS_updates_enc_rips_record(X, Y, dmax = 2):\n",
    "    rec = []\n",
    "    \n",
    "    t0 = time.monotonic()\n",
    "    DX = distance.squareform(distance.pdist(X))\n",
    "    rX = bats.enclosing_radius(bats.Matrix(DX))\n",
    "    t1 = time.monotonic()\n",
    "    #print(\"setup1: {} sec.\".format(t1 - t0))\n",
    "    rec.append(t1-t0)\n",
    "    \n",
    "    t0 = time.monotonic()\n",
    "    F = bats.LightRipsFiltration(bats.Matrix(DX), rX, dmax)\n",
    "    t1 = time.monotonic()\n",
    "    #print(\"construct1: {} sec.\".format(t1 - t0))\n",
    "    rec.append(t1-t0)\n",
    "    \n",
    "    t0 = time.monotonic()\n",
    "    R = bats.reduce(F, bats.F2())\n",
    "    t1 = time.monotonic()\n",
    "    #print(\"reduce1: {} sec.\".format(t1 - t0))\n",
    "    rec.append(t1-t0)\n",
    "    nnz_old_U = np.sum(R.nnz_U())\n",
    "    nnz_old_R = np.sum(R.nnz_R())\n",
    "    \n",
    "    t0 = time.monotonic()\n",
    "    DY = distance.squareform(distance.pdist(Y))\n",
    "    rY = bats.enclosing_radius(bats.Matrix(DY))\n",
    "    t1 = time.monotonic()\n",
    "    #print(\"setup2: {} sec.\".format(t1 - t0))\n",
    "    rec.append(t1-t0)\n",
    "    \n",
    "    t0 = time.monotonic()\n",
    "    FY = bats.LightRipsFiltration(bats.Matrix(DY), rY, dmax)\n",
    "    t1 = time.monotonic()\n",
    "    #print(\"construct2: {} sec.\".format(t1 - t0))\n",
    "    rec.append(t1-t0)\n",
    "    \n",
    "    t0 = time.monotonic()\n",
    "    RY = bats.reduce(FY, bats.F2())\n",
    "    t1 = time.monotonic()\n",
    "    #print(\"reduce2: {} sec.\".format(t1 - t0))\n",
    "    rec.append(t1-t0)\n",
    "    t_reb = t1-t0\n",
    "    nnz_reb_U = np.sum(RY.nnz_U())\n",
    "    nnz_reb_R = np.sum(RY.nnz_R())\n",
    "    \n",
    "    t0 = time.monotonic()\n",
    "    update_info = bats.UpdateInfoLightFiltration(F, FY)\n",
    "    R.update_filtration_general(update_info)\n",
    "    t1 = time.monotonic()\n",
    "    #print(\"update2: {} sec.\".format(t1 - t0))\n",
    "    rec.append(t1-t0)\n",
    "    t_upd = t1-t0\n",
    "    factor = round(t_reb/t_upd, 4)\n",
    "    rec.append(factor)\n",
    "    nnz_upd_U = np.sum(R.nnz_U())\n",
    "    nnz_upd_R = np.sum(R.nnz_R())\n",
    "    \n",
    "    rec.append(nnz_old_U)\n",
    "    rec.append(nnz_reb_U)\n",
    "    rec.append(nnz_upd_U)\n",
    "    rec.append(nnz_old_R)\n",
    "    rec.append(nnz_reb_R)\n",
    "    rec.append(nnz_upd_R)\n",
    "    \n",
    "    return rec"
   ]
  },
  {
   "cell_type": "code",
   "execution_count": 3,
   "id": "33c80ec2",
   "metadata": {},
   "outputs": [
    {
     "data": {
      "image/png": "[encoded data removed]",
      "text/plain": [
       "<Figure size 432x288 with 1 Axes>"
      ]
     },
     "metadata": {
      "needs_background": "light"
     },
     "output_type": "display_data"
    }
   ],
   "source": [
    "n = 100\n",
    "X = np.random.uniform(-1,1,(n,2))\n",
    "X = X / np.linalg.norm(X, axis=1).reshape(-1,1)\n",
    "X = X + np.random.normal(size=(n,2), scale = 0.1)\n",
    "X2 = X + 0.005*np.random.randn(n,2)\n",
    "fig = plt.scatter(X[:,0], X[:,1], label = \"X\")\n",
    "plt.scatter(X2[:,0], X2[:,1], label = \"X2\")\n",
    "plt.legend()\n",
    "plt.show()"
   ]
  },
  {
   "cell_type": "code",
   "execution_count": 4,
   "id": "ebf45e5d",
   "metadata": {},
   "outputs": [],
   "source": [
    "header = ['setup1','contruct1', 'reduce1', \n",
    "          'setup2','contruct2', 'reduce2',\n",
    "          'update2','speedup factor',\n",
    "          'nnz_old_U', 'nnz_reb_U', 'nnz_upd_U',\n",
    "          'nnz_old_R', 'nnz_reb_R', 'nnz_upd_R'] # set header of csv file\n",
    "data = []\n",
    "\n",
    "with open('rips1.csv', 'w', encoding='UTF8', newline='') as f:\n",
    "    writer = csv.writer(f)\n",
    "    \n",
    "    # write the header\n",
    "    writer.writerow(header)\n",
    "    \n",
    "    for i in range(5):\n",
    "        data.append(time_BATS_updates_enc_rips_record(X,X2))\n",
    "    \n",
    "    data = np.array(data)\n",
    "    avg = np.mean(data, axis = 0)\n",
    "    data = list(data)\n",
    "    data.append(avg)\n",
    "    # write multiple rows\n",
    "    writer.writerows(data)"
   ]
  },
  {
   "cell_type": "code",
   "execution_count": 5,
   "id": "d3a4acc5",
   "metadata": {},
   "outputs": [
    {
     "data": {
      "text/html": [
       "<div>\n",
       "<style scoped>\n",
       "    .dataframe tbody tr th:only-of-type {\n",
       "        vertical-align: middle;\n",
       "    }\n",
       "\n",
       "    .dataframe tbody tr th {\n",
       "        vertical-align: top;\n",
       "    }\n",
       "\n",
       "    .dataframe thead th {\n",
       "        text-align: right;\n",
       "    }\n",
       "</style>\n",
       "<table border=\"1\" class=\"dataframe\">\n",
       "  <thead>\n",
       "    <tr style=\"text-align: right;\">\n",
       "      <th></th>\n",
       "      <th>setup1</th>\n",
       "      <th>contruct1</th>\n",
       "      <th>reduce1</th>\n",
       "      <th>setup2</th>\n",
       "      <th>contruct2</th>\n",
       "      <th>reduce2</th>\n",
       "      <th>update2</th>\n",
       "      <th>speedup factor</th>\n",
       "    </tr>\n",
       "  </thead>\n",
       "  <tbody>\n",
       "    <tr>\n",
       "      <th>0</th>\n",
       "      <td>0.000302</td>\n",
       "      <td>0.086240</td>\n",
       "      <td>0.996583</td>\n",
       "      <td>0.000231</td>\n",
       "      <td>0.037045</td>\n",
       "      <td>0.720267</td>\n",
       "      <td>0.201209</td>\n",
       "      <td>3.57970</td>\n",
       "    </tr>\n",
       "    <tr>\n",
       "      <th>1</th>\n",
       "      <td>0.000336</td>\n",
       "      <td>0.021523</td>\n",
       "      <td>0.242346</td>\n",
       "      <td>0.000204</td>\n",
       "      <td>0.022421</td>\n",
       "      <td>0.229720</td>\n",
       "      <td>0.099501</td>\n",
       "      <td>2.30870</td>\n",
       "    </tr>\n",
       "    <tr>\n",
       "      <th>2</th>\n",
       "      <td>0.000312</td>\n",
       "      <td>0.017425</td>\n",
       "      <td>0.239438</td>\n",
       "      <td>0.000216</td>\n",
       "      <td>0.028046</td>\n",
       "      <td>0.231072</td>\n",
       "      <td>0.098831</td>\n",
       "      <td>2.33800</td>\n",
       "    </tr>\n",
       "    <tr>\n",
       "      <th>3</th>\n",
       "      <td>0.000317</td>\n",
       "      <td>0.017046</td>\n",
       "      <td>0.229447</td>\n",
       "      <td>0.000207</td>\n",
       "      <td>0.018563</td>\n",
       "      <td>0.229544</td>\n",
       "      <td>0.094844</td>\n",
       "      <td>2.42020</td>\n",
       "    </tr>\n",
       "    <tr>\n",
       "      <th>4</th>\n",
       "      <td>0.000357</td>\n",
       "      <td>0.017713</td>\n",
       "      <td>0.227755</td>\n",
       "      <td>0.000257</td>\n",
       "      <td>0.020633</td>\n",
       "      <td>0.227307</td>\n",
       "      <td>0.090264</td>\n",
       "      <td>2.51830</td>\n",
       "    </tr>\n",
       "    <tr>\n",
       "      <th>5</th>\n",
       "      <td>0.000325</td>\n",
       "      <td>0.031989</td>\n",
       "      <td>0.387114</td>\n",
       "      <td>0.000223</td>\n",
       "      <td>0.025342</td>\n",
       "      <td>0.327582</td>\n",
       "      <td>0.116930</td>\n",
       "      <td>2.63298</td>\n",
       "    </tr>\n",
       "  </tbody>\n",
       "</table>\n",
       "</div>"
      ],
      "text/plain": [
       "     setup1  contruct1   reduce1    setup2  contruct2   reduce2   update2  \\\n",
       "0  0.000302   0.086240  0.996583  0.000231   0.037045  0.720267  0.201209   \n",
       "1  0.000336   0.021523  0.242346  0.000204   0.022421  0.229720  0.099501   \n",
       "2  0.000312   0.017425  0.239438  0.000216   0.028046  0.231072  0.098831   \n",
       "3  0.000317   0.017046  0.229447  0.000207   0.018563  0.229544  0.094844   \n",
       "4  0.000357   0.017713  0.227755  0.000257   0.020633  0.227307  0.090264   \n",
       "5  0.000325   0.031989  0.387114  0.000223   0.025342  0.327582  0.116930   \n",
       "\n",
       "   speedup factor  \n",
       "0         3.57970  \n",
       "1         2.30870  \n",
       "2         2.33800  \n",
       "3         2.42020  \n",
       "4         2.51830  \n",
       "5         2.63298  "
      ]
     },
     "execution_count": 5,
     "metadata": {},
     "output_type": "execute_result"
    }
   ],
   "source": [
    "df = pd.read_csv('rips1.csv', usecols = range(8))\n",
    "df"
   ]
  },
  {
   "cell_type": "code",
   "execution_count": 4,
   "id": "9c6ff17c",
   "metadata": {},
   "outputs": [
    {
     "data": {
      "image/png": "[encoded data removed]",
      "text/plain": [
       "<Figure size 648x432 with 1 Axes>"
      ]
     },
     "metadata": {
      "needs_background": "light"
     },
     "output_type": "display_data"
    }
   ],
   "source": [
    "n = 100\n",
    "d = 3\n",
    "X = np.random.uniform(-1,1,(n,d))\n",
    "X = X / np.linalg.norm(X, axis=1).reshape(-1,1)\n",
    "X = X + np.random.normal(size=(n,d), scale = 0.1)\n",
    "X2 = X + 0.005*np.random.randn(n,d)\n",
    "\n",
    "fig = plt.figure(figsize=(9, 6))\n",
    "\n",
    "#3d container\n",
    "ax = plt.axes(projection = '3d')\n",
    "#3d scatter plot\n",
    "ax.scatter3D(X[:,0], X[:,1], X[:,2], c = 'r')\n",
    "ax.scatter3D(X2[:,0], X2[:,1], X2[:,2], c = 'g')\n",
    "#give labels\n",
    "ax.set_xlabel('x')\n",
    "ax.set_ylabel('y')\n",
    "ax.set_zlabel('z')\n",
    "#save figure\n",
    "plt.savefig('3d_plot.png', dpi = 300);"
   ]
  },
  {
   "cell_type": "code",
   "execution_count": 5,
   "id": "963c02e6",
   "metadata": {},
   "outputs": [],
   "source": [
    "header = ['setup1','contruct1', 'reduce1', \n",
    "          'setup2','contruct2', 'reduce2',\n",
    "          'update2','speedup factor',\n",
    "          'nnz_old_U', 'nnz_reb_U', 'nnz_upd_U',\n",
    "          'nnz_old_R', 'nnz_reb_R', 'nnz_upd_R'] # set header of csv file\n",
    "data = []\n",
    "\n",
    "with open('rips1_3D.csv', 'w', encoding='UTF8', newline='') as f:\n",
    "    writer = csv.writer(f)\n",
    "    \n",
    "    # write the header\n",
    "    writer.writerow(header)\n",
    "    \n",
    "    for i in range(5):\n",
    "        data.append(time_BATS_updates_enc_rips_record(X,X2, 3))\n",
    "    \n",
    "    data = np.array(data)\n",
    "    avg = np.mean(data, axis = 0)\n",
    "    data = list(data)\n",
    "    data.append(avg)\n",
    "    # write multiple rows\n",
    "    writer.writerows(data)"
   ]
  },
  {
   "cell_type": "code",
   "execution_count": 6,
   "id": "697aadc7",
   "metadata": {},
   "outputs": [
    {
     "data": {
      "text/html": [
       "<div>\n",
       "<style scoped>\n",
       "    .dataframe tbody tr th:only-of-type {\n",
       "        vertical-align: middle;\n",
       "    }\n",
       "\n",
       "    .dataframe tbody tr th {\n",
       "        vertical-align: top;\n",
       "    }\n",
       "\n",
       "    .dataframe thead th {\n",
       "        text-align: right;\n",
       "    }\n",
       "</style>\n",
       "<table border=\"1\" class=\"dataframe\">\n",
       "  <thead>\n",
       "    <tr style=\"text-align: right;\">\n",
       "      <th></th>\n",
       "      <th>setup1</th>\n",
       "      <th>contruct1</th>\n",
       "      <th>reduce1</th>\n",
       "      <th>setup2</th>\n",
       "      <th>contruct2</th>\n",
       "      <th>reduce2</th>\n",
       "      <th>update2</th>\n",
       "      <th>speedup factor</th>\n",
       "    </tr>\n",
       "  </thead>\n",
       "  <tbody>\n",
       "    <tr>\n",
       "      <th>0</th>\n",
       "      <td>0.000249</td>\n",
       "      <td>1.090411</td>\n",
       "      <td>33.959630</td>\n",
       "      <td>0.000213</td>\n",
       "      <td>1.065741</td>\n",
       "      <td>39.402175</td>\n",
       "      <td>13.231235</td>\n",
       "      <td>2.97800</td>\n",
       "    </tr>\n",
       "    <tr>\n",
       "      <th>1</th>\n",
       "      <td>0.065723</td>\n",
       "      <td>0.647383</td>\n",
       "      <td>11.293555</td>\n",
       "      <td>0.000222</td>\n",
       "      <td>1.081142</td>\n",
       "      <td>10.945992</td>\n",
       "      <td>6.045326</td>\n",
       "      <td>1.81070</td>\n",
       "    </tr>\n",
       "    <tr>\n",
       "      <th>2</th>\n",
       "      <td>0.000343</td>\n",
       "      <td>0.605649</td>\n",
       "      <td>10.533644</td>\n",
       "      <td>0.000202</td>\n",
       "      <td>1.016613</td>\n",
       "      <td>11.091806</td>\n",
       "      <td>5.182277</td>\n",
       "      <td>2.14030</td>\n",
       "    </tr>\n",
       "    <tr>\n",
       "      <th>3</th>\n",
       "      <td>0.000373</td>\n",
       "      <td>0.578590</td>\n",
       "      <td>10.424396</td>\n",
       "      <td>0.000265</td>\n",
       "      <td>1.024537</td>\n",
       "      <td>10.825348</td>\n",
       "      <td>5.353100</td>\n",
       "      <td>2.02230</td>\n",
       "    </tr>\n",
       "    <tr>\n",
       "      <th>4</th>\n",
       "      <td>0.000313</td>\n",
       "      <td>0.570720</td>\n",
       "      <td>10.381764</td>\n",
       "      <td>0.000201</td>\n",
       "      <td>1.005790</td>\n",
       "      <td>10.982164</td>\n",
       "      <td>5.363522</td>\n",
       "      <td>2.04760</td>\n",
       "    </tr>\n",
       "    <tr>\n",
       "      <th>5</th>\n",
       "      <td>0.013400</td>\n",
       "      <td>0.698551</td>\n",
       "      <td>15.318598</td>\n",
       "      <td>0.000220</td>\n",
       "      <td>1.038764</td>\n",
       "      <td>16.649497</td>\n",
       "      <td>7.035092</td>\n",
       "      <td>2.19978</td>\n",
       "    </tr>\n",
       "  </tbody>\n",
       "</table>\n",
       "</div>"
      ],
      "text/plain": [
       "     setup1  contruct1    reduce1    setup2  contruct2    reduce2    update2  \\\n",
       "0  0.000249   1.090411  33.959630  0.000213   1.065741  39.402175  13.231235   \n",
       "1  0.065723   0.647383  11.293555  0.000222   1.081142  10.945992   6.045326   \n",
       "2  0.000343   0.605649  10.533644  0.000202   1.016613  11.091806   5.182277   \n",
       "3  0.000373   0.578590  10.424396  0.000265   1.024537  10.825348   5.353100   \n",
       "4  0.000313   0.570720  10.381764  0.000201   1.005790  10.982164   5.363522   \n",
       "5  0.013400   0.698551  15.318598  0.000220   1.038764  16.649497   7.035092   \n",
       "\n",
       "   speedup factor  \n",
       "0         2.97800  \n",
       "1         1.81070  \n",
       "2         2.14030  \n",
       "3         2.02230  \n",
       "4         2.04760  \n",
       "5         2.19978  "
      ]
     },
     "execution_count": 6,
     "metadata": {},
     "output_type": "execute_result"
    }
   ],
   "source": [
    "df = pd.read_csv('rips1_3D.csv', usecols = range(8))\n",
    "df"
   ]
  },
  {
   "cell_type": "markdown",
   "id": "81f20906",
   "metadata": {},
   "source": [
    "## Rips Experiemnt 2\n",
    "goal: add flag into consideration"
   ]
  },
  {
   "cell_type": "code",
   "execution_count": 1,
   "id": "f055dbcd",
   "metadata": {},
   "outputs": [],
   "source": [
    "import bats\n",
    "import numpy as np\n",
    "import matplotlib.pyplot as plt\n",
    "import time\n",
    "import scipy.spatial.distance as distance\n",
    "import csv \n",
    "import pandas as pd"
   ]
  },
  {
   "cell_type": "code",
   "execution_count": 7,
   "id": "e545da9d",
   "metadata": {},
   "outputs": [
    {
     "data": {
      "image/png": "[encoded data removed]",
      "text/plain": [
       "<Figure size 432x288 with 1 Axes>"
      ]
     },
     "metadata": {
      "needs_background": "light"
     },
     "output_type": "display_data"
    }
   ],
   "source": [
    "n = 100\n",
    "X = np.random.uniform(-1,1,(n,2))\n",
    "X = X / np.linalg.norm(X, axis=1).reshape(-1,1)\n",
    "X = X + np.random.normal(size=(n,2), scale = 0.1)\n",
    "X2 = X + 0.005*np.random.randn(n,2)\n",
    "fig = plt.scatter(X[:,0], X[:,1], label = \"X\")\n",
    "plt.scatter(X2[:,0], X2[:,1], label = \"X2\")\n",
    "plt.legend()\n",
    "plt.show()"
   ]
  },
  {
   "cell_type": "code",
   "execution_count": 16,
   "id": "1736401b",
   "metadata": {},
   "outputs": [],
   "source": [
    "def time_BATS_rips_flags(X, flags=(bats.standard_reduction_flag(), bats.compute_basis_flag())):\n",
    "    tlist = []\n",
    "    \n",
    "    t0 = time.monotonic()\n",
    "    DX = distance.squareform(distance.pdist(X))\n",
    "    rX = bats.enclosing_radius(bats.Matrix(DX))\n",
    "    t1 = time.monotonic()\n",
    "    #print(\"setup1: {} sec.\".format(t1 - t0))\n",
    "    \n",
    "    t0 = time.monotonic()\n",
    "    F = bats.LightRipsFiltration(bats.Matrix(DX), rX, 2)\n",
    "    t1 = time.monotonic()\n",
    "    #print(\"construct1: {} sec.\".format(t1 - t0))\n",
    "    \n",
    "    t0 = time.monotonic()\n",
    "    R = bats.reduce(F, bats.F2(), *flags)\n",
    "    t1 = time.monotonic()\n",
    "    #print(\"reduce1: {} sec.\".format(t1 - t0))\n",
    "    \n",
    "    return t1-t0\n",
    "    \n",
    "flags = [\n",
    "    (bats.standard_reduction_flag(), bats.compute_basis_flag()),\n",
    "    (bats.standard_reduction_flag(),),\n",
    "    (bats.standard_reduction_flag(), bats.clearing_flag()),\n",
    "    (bats.standard_reduction_flag(), bats.compression_flag())\n",
    "]\n",
    "labels = [\n",
    "    \"standard w/ basis\",\n",
    "    \"standard w/ no basis\",\n",
    "    \"standard w/ clearing\",\n",
    "    \"standard w/ compression\",\n",
    "]"
   ]
  },
  {
   "cell_type": "markdown",
   "id": "99c0c675",
   "metadata": {},
   "source": [
    "Our updating scheme can compete with the clearing and compression method."
   ]
  },
  {
   "cell_type": "code",
   "execution_count": 28,
   "id": "3bd32c67",
   "metadata": {},
   "outputs": [
    {
     "name": "stdout",
     "output_type": "stream",
     "text": [
      "[0.1766594  0.09406469 0.09128678 0.08879267]\n"
     ]
    }
   ],
   "source": [
    "# Rebuild using flag\n",
    "data = []\n",
    "for i in range(10):\n",
    "    data_n = []\n",
    "    for flag, label in zip(flags, labels):\n",
    "        data_n.append(time_BATS_rips_flags(X2, flag))\n",
    "    data.append(data_n)\n",
    "\n",
    "data = np.array(data)\n",
    "data = np.mean(data, axis = 0)\n",
    "print(data)"
   ]
  },
  {
   "cell_type": "code",
   "execution_count": 29,
   "id": "c11ebc69",
   "metadata": {},
   "outputs": [],
   "source": [
    "def time_BATS_updates_rips(X, Y):\n",
    "    \n",
    "    t0 = time.monotonic()\n",
    "    DX = distance.squareform(distance.pdist(X))\n",
    "    rX = bats.enclosing_radius(bats.Matrix(DX))\n",
    "    t1 = time.monotonic()\n",
    "    #print(\"setup1: {} sec.\".format(t1 - t0))\n",
    "    \n",
    "    t0 = time.monotonic()\n",
    "    F = bats.LightRipsFiltration(bats.Matrix(DX), rX, 2)\n",
    "    t1 = time.monotonic()\n",
    "    #print(\"construct1: {} sec.\".format(t1 - t0))\n",
    "    \n",
    "    t0 = time.monotonic()\n",
    "    R = bats.reduce(F, bats.F2())\n",
    "    t1 = time.monotonic()\n",
    "    #print(\"reduce1: {} sec.\".format(t1 - t0))\n",
    "    \n",
    "    t0 = time.monotonic()\n",
    "    DY = distance.squareform(distance.pdist(Y))\n",
    "    rY = bats.enclosing_radius(bats.Matrix(DY))\n",
    "    t1 = time.monotonic()\n",
    "    #print(\"setup2: {} sec.\".format(t1 - t0))\n",
    "    \n",
    "    t0 = time.monotonic()\n",
    "    FY = bats.LightRipsFiltration(bats.Matrix(DY), rY, 2)\n",
    "    t1 = time.monotonic()\n",
    "    #print(\"construct2: {} sec.\".format(t1 - t0))\n",
    "    \n",
    "    t0 = time.monotonic()\n",
    "    update_info = bats.UpdateInfoLightFiltration(F, FY)\n",
    "    R.update_filtration_general(update_info)\n",
    "    t1 = time.monotonic()\n",
    "    #print(\"update2: {} sec.\".format(t1 - t0))\n",
    "    \n",
    "    return t1-t0\n",
    "\n",
    "\n",
    "# Rebuild using flag\n",
    "data = []\n",
    "for i in range(10):\n",
    "    data.append(time_BATS_updates_rips(X, X2))"
   ]
  },
  {
   "cell_type": "code",
   "execution_count": 31,
   "id": "ad68c7ba",
   "metadata": {},
   "outputs": [
    {
     "data": {
      "text/plain": [
       "0.0857638774003135"
      ]
     },
     "execution_count": 31,
     "metadata": {},
     "output_type": "execute_result"
    }
   ],
   "source": [
    "np.mean(data)"
   ]
  },
  {
   "cell_type": "markdown",
   "id": "99f091d7",
   "metadata": {},
   "source": [
    "#### On 3 dimensional sphere"
   ]
  },
  {
   "cell_type": "code",
   "execution_count": 2,
   "id": "300407a9",
   "metadata": {},
   "outputs": [],
   "source": [
    "n = 100\n",
    "d = 3\n",
    "X = np.random.uniform(-1,1,(n,d))\n",
    "X = X / np.linalg.norm(X, axis=1).reshape(-1,1)\n",
    "X = X + np.random.normal(size=(n,d), scale = 0.1)\n",
    "X2 = X + 0.005*np.random.randn(n,d)"
   ]
  },
  {
   "cell_type": "code",
   "execution_count": 4,
   "id": "2a1eb0f6",
   "metadata": {},
   "outputs": [],
   "source": [
    "def time_BATS_rips_flags(X, dmax = 3, flags=(bats.standard_reduction_flag(), bats.compute_basis_flag())):\n",
    "    tlist = []\n",
    "    \n",
    "    t0 = time.monotonic()\n",
    "    DX = distance.squareform(distance.pdist(X))\n",
    "    rX = bats.enclosing_radius(bats.Matrix(DX))\n",
    "    t1 = time.monotonic()\n",
    "    #print(\"setup1: {} sec.\".format(t1 - t0))\n",
    "    \n",
    "    t0 = time.monotonic()\n",
    "    F = bats.LightRipsFiltration(bats.Matrix(DX), rX, dmax)\n",
    "    t1 = time.monotonic()\n",
    "    #print(\"construct1: {} sec.\".format(t1 - t0))\n",
    "    \n",
    "    t0 = time.monotonic()\n",
    "    R = bats.reduce(F, bats.F2(), *flags)\n",
    "    t1 = time.monotonic()\n",
    "    #print(\"reduce1: {} sec.\".format(t1 - t0))\n",
    "    \n",
    "    return t1-t0\n"
   ]
  },
  {
   "cell_type": "code",
   "execution_count": 5,
   "id": "c00df242",
   "metadata": {},
   "outputs": [],
   "source": [
    "flags = [\n",
    "    (bats.standard_reduction_flag(), bats.compute_basis_flag()),\n",
    "    (bats.standard_reduction_flag(),),\n",
    "    (bats.standard_reduction_flag(), bats.clearing_flag()),\n",
    "    (bats.standard_reduction_flag(), bats.compression_flag())\n",
    "]\n",
    "labels = [\n",
    "    \"standard w/ basis\",\n",
    "    \"standard w/ no basis\",\n",
    "    \"standard w/ clearing\",\n",
    "    \"standard w/ compression\",\n",
    "]"
   ]
  },
  {
   "cell_type": "code",
   "execution_count": 6,
   "id": "6352b08a",
   "metadata": {},
   "outputs": [
    {
     "name": "stdout",
     "output_type": "stream",
     "text": [
      "[15.73967863  6.79485843  6.68660843  5.06946224]\n"
     ]
    }
   ],
   "source": [
    "# Rebuild using flag\n",
    "data = []\n",
    "for i in range(10):\n",
    "    data_n = []\n",
    "    for flag, label in zip(flags, labels):\n",
    "        data_n.append(time_BATS_rips_flags(X2, 3, flag))\n",
    "    data.append(data_n)\n",
    "\n",
    "data = np.array(data)\n",
    "data = np.mean(data, axis = 0)\n",
    "print(data)"
   ]
  },
  {
   "cell_type": "code",
   "execution_count": null,
   "id": "7f6b928d",
   "metadata": {},
   "outputs": [],
   "source": []
  },
  {
   "cell_type": "code",
   "execution_count": null,
   "id": "69e3ed95",
   "metadata": {},
   "outputs": [],
   "source": []
  },
  {
   "cell_type": "markdown",
   "id": "ad924dae",
   "metadata": {},
   "source": [
    "## Rips Experiemnt 3\n",
    "Update metric"
   ]
  },
  {
   "cell_type": "code",
   "execution_count": 3,
   "id": "d951032b",
   "metadata": {},
   "outputs": [
    {
     "data": {
      "image/png": "[encoded data removed]",
      "text/plain": [
       "<Figure size 432x288 with 1 Axes>"
      ]
     },
     "metadata": {
      "needs_background": "light"
     },
     "output_type": "display_data"
    }
   ],
   "source": [
    "n = 100\n",
    "X = np.random.uniform(-1,1,(n,2))\n",
    "X = X / np.linalg.norm(X, axis=1).reshape(-1,1)\n",
    "X = X + np.random.normal(size=(n,2), scale = 0.1)\n",
    "fig = plt.scatter(X[:,0], X[:,1], label = \"X\")\n",
    "plt.legend()\n",
    "plt.show()"
   ]
  },
  {
   "cell_type": "code",
   "execution_count": 4,
   "id": "866d7d6e",
   "metadata": {},
   "outputs": [],
   "source": [
    "def enc_rips_record_metric(X, dmax = 2):\n",
    "    rec = []\n",
    "    \n",
    "    t0 = time.monotonic()\n",
    "    DX = distance.squareform(distance.pdist(X))\n",
    "    rX = bats.enclosing_radius(bats.Matrix(DX))\n",
    "    t1 = time.monotonic()\n",
    "    #print(\"setup1: {} sec.\".format(t1 - t0))\n",
    "    rec.append(t1-t0)\n",
    "    \n",
    "    t0 = time.monotonic()\n",
    "    F = bats.LightRipsFiltration(bats.Matrix(DX), rX, dmax)\n",
    "    t1 = time.monotonic()\n",
    "    #print(\"construct1: {} sec.\".format(t1 - t0))\n",
    "    rec.append(t1-t0)\n",
    "    \n",
    "    t0 = time.monotonic()\n",
    "    R = bats.reduce(F, bats.F2())\n",
    "    t1 = time.monotonic()\n",
    "    #print(\"reduce1: {} sec.\".format(t1 - t0))\n",
    "    rec.append(t1-t0)\n",
    "    nnz_old_U = np.sum(R.nnz_U())\n",
    "    nnz_old_R = np.sum(R.nnz_R())\n",
    "    \n",
    "    t0 = time.monotonic()\n",
    "    DY = distance.squareform(distance.pdist(X, 'minkowski', p=1))\n",
    "    rY = bats.enclosing_radius(bats.Matrix(DY))\n",
    "    t1 = time.monotonic()\n",
    "    #print(\"setup2: {} sec.\".format(t1 - t0))\n",
    "    rec.append(t1-t0)\n",
    "    \n",
    "    t0 = time.monotonic()\n",
    "    FY = bats.LightRipsFiltration(bats.Matrix(DY), rY, dmax)\n",
    "    t1 = time.monotonic()\n",
    "    #print(\"construct2: {} sec.\".format(t1 - t0))\n",
    "    rec.append(t1-t0)\n",
    "    \n",
    "    t0 = time.monotonic()\n",
    "    RY = bats.reduce(FY, bats.F2())\n",
    "    t1 = time.monotonic()\n",
    "    #print(\"reduce2: {} sec.\".format(t1 - t0))\n",
    "    rec.append(t1-t0)\n",
    "    t_reb = t1-t0\n",
    "    nnz_reb_U = np.sum(RY.nnz_U())\n",
    "    nnz_reb_R = np.sum(RY.nnz_R())\n",
    "    \n",
    "    t0 = time.monotonic()\n",
    "    update_info = bats.UpdateInfoLightFiltration(F, FY)\n",
    "    R.update_filtration_general(update_info)\n",
    "    t1 = time.monotonic()\n",
    "    #print(\"update2: {} sec.\".format(t1 - t0))\n",
    "    rec.append(t1-t0)\n",
    "    t_upd = t1-t0\n",
    "    factor = round(t_reb/t_upd, 4)\n",
    "    rec.append(factor)\n",
    "    nnz_upd_U = np.sum(R.nnz_U())\n",
    "    nnz_upd_R = np.sum(R.nnz_R())\n",
    "    \n",
    "    rec.append(nnz_old_U)\n",
    "    rec.append(nnz_reb_U)\n",
    "    rec.append(nnz_upd_U)\n",
    "    rec.append(nnz_old_R)\n",
    "    rec.append(nnz_reb_R)\n",
    "    rec.append(nnz_upd_R)\n",
    "    \n",
    "    return rec"
   ]
  },
  {
   "cell_type": "code",
   "execution_count": 11,
   "id": "013aca9a",
   "metadata": {},
   "outputs": [],
   "source": [
    "header = ['setup1','contruct1', 'reduce1', \n",
    "          'setup2','contruct2', 'reduce2',\n",
    "          'update2','speedup factor',\n",
    "          'nnz_old_U', 'nnz_reb_U', 'nnz_upd_U',\n",
    "          'nnz_old_R', 'nnz_reb_R', 'nnz_upd_R'] # set header of csv file\n",
    "data = []\n",
    "\n",
    "with open('rips3.csv', 'w', encoding='UTF8', newline='') as f:\n",
    "    writer = csv.writer(f)\n",
    "    \n",
    "    # write the header\n",
    "    writer.writerow(header)\n",
    "    \n",
    "    for i in range(5):\n",
    "        data.append(enc_rips_record_metric(X))\n",
    "    \n",
    "    data = np.array(data)\n",
    "    avg = np.mean(data, axis = 0)\n",
    "    data = list(data)\n",
    "    data.append(avg)\n",
    "    # write multiple rows\n",
    "    writer.writerows(data)"
   ]
  },
  {
   "cell_type": "code",
   "execution_count": 12,
   "id": "c30201b3",
   "metadata": {},
   "outputs": [
    {
     "data": {
      "text/html": [
       "<div>\n",
       "<style scoped>\n",
       "    .dataframe tbody tr th:only-of-type {\n",
       "        vertical-align: middle;\n",
       "    }\n",
       "\n",
       "    .dataframe tbody tr th {\n",
       "        vertical-align: top;\n",
       "    }\n",
       "\n",
       "    .dataframe thead th {\n",
       "        text-align: right;\n",
       "    }\n",
       "</style>\n",
       "<table border=\"1\" class=\"dataframe\">\n",
       "  <thead>\n",
       "    <tr style=\"text-align: right;\">\n",
       "      <th></th>\n",
       "      <th>setup1</th>\n",
       "      <th>contruct1</th>\n",
       "      <th>reduce1</th>\n",
       "      <th>setup2</th>\n",
       "      <th>contruct2</th>\n",
       "      <th>reduce2</th>\n",
       "      <th>update2</th>\n",
       "      <th>speedup factor</th>\n",
       "    </tr>\n",
       "  </thead>\n",
       "  <tbody>\n",
       "    <tr>\n",
       "      <th>0</th>\n",
       "      <td>0.000218</td>\n",
       "      <td>0.036377</td>\n",
       "      <td>0.249583</td>\n",
       "      <td>0.000191</td>\n",
       "      <td>0.018708</td>\n",
       "      <td>0.207327</td>\n",
       "      <td>0.219997</td>\n",
       "      <td>0.94240</td>\n",
       "    </tr>\n",
       "    <tr>\n",
       "      <th>1</th>\n",
       "      <td>0.000325</td>\n",
       "      <td>0.015936</td>\n",
       "      <td>0.285765</td>\n",
       "      <td>0.000195</td>\n",
       "      <td>0.034826</td>\n",
       "      <td>0.265630</td>\n",
       "      <td>0.247718</td>\n",
       "      <td>1.07230</td>\n",
       "    </tr>\n",
       "    <tr>\n",
       "      <th>2</th>\n",
       "      <td>0.000379</td>\n",
       "      <td>0.018243</td>\n",
       "      <td>0.220605</td>\n",
       "      <td>0.000194</td>\n",
       "      <td>0.020643</td>\n",
       "      <td>0.234666</td>\n",
       "      <td>0.245974</td>\n",
       "      <td>0.95400</td>\n",
       "    </tr>\n",
       "    <tr>\n",
       "      <th>3</th>\n",
       "      <td>0.000340</td>\n",
       "      <td>0.016630</td>\n",
       "      <td>0.216240</td>\n",
       "      <td>0.000178</td>\n",
       "      <td>0.018699</td>\n",
       "      <td>0.208741</td>\n",
       "      <td>0.244152</td>\n",
       "      <td>0.85500</td>\n",
       "    </tr>\n",
       "    <tr>\n",
       "      <th>4</th>\n",
       "      <td>0.000323</td>\n",
       "      <td>0.017862</td>\n",
       "      <td>0.244716</td>\n",
       "      <td>0.000224</td>\n",
       "      <td>0.021970</td>\n",
       "      <td>0.213196</td>\n",
       "      <td>0.233345</td>\n",
       "      <td>0.91370</td>\n",
       "    </tr>\n",
       "    <tr>\n",
       "      <th>5</th>\n",
       "      <td>0.000317</td>\n",
       "      <td>0.021010</td>\n",
       "      <td>0.243382</td>\n",
       "      <td>0.000196</td>\n",
       "      <td>0.022969</td>\n",
       "      <td>0.225912</td>\n",
       "      <td>0.238237</td>\n",
       "      <td>0.94748</td>\n",
       "    </tr>\n",
       "  </tbody>\n",
       "</table>\n",
       "</div>"
      ],
      "text/plain": [
       "     setup1  contruct1   reduce1    setup2  contruct2   reduce2   update2  \\\n",
       "0  0.000218   0.036377  0.249583  0.000191   0.018708  0.207327  0.219997   \n",
       "1  0.000325   0.015936  0.285765  0.000195   0.034826  0.265630  0.247718   \n",
       "2  0.000379   0.018243  0.220605  0.000194   0.020643  0.234666  0.245974   \n",
       "3  0.000340   0.016630  0.216240  0.000178   0.018699  0.208741  0.244152   \n",
       "4  0.000323   0.017862  0.244716  0.000224   0.021970  0.213196  0.233345   \n",
       "5  0.000317   0.021010  0.243382  0.000196   0.022969  0.225912  0.238237   \n",
       "\n",
       "   speedup factor  \n",
       "0         0.94240  \n",
       "1         1.07230  \n",
       "2         0.95400  \n",
       "3         0.85500  \n",
       "4         0.91370  \n",
       "5         0.94748  "
      ]
     },
     "execution_count": 12,
     "metadata": {},
     "output_type": "execute_result"
    }
   ],
   "source": [
    "df = pd.read_csv('rips3.csv', usecols = range(8))\n",
    "df"
   ]
  },
  {
   "cell_type": "markdown",
   "id": "88321349",
   "metadata": {},
   "source": [
    "## Experiment 4 (might not be useful)\n",
    "updating on 3 dimensional cirlce."
   ]
  },
  {
   "cell_type": "code",
   "execution_count": 15,
   "id": "d84aa16c",
   "metadata": {},
   "outputs": [
    {
     "data": {
      "image/png": "[encoded data removed]",
      "text/plain": [
       "<Figure size 432x288 with 1 Axes>"
      ]
     },
     "metadata": {
      "needs_background": "light"
     },
     "output_type": "display_data"
    }
   ],
   "source": []
  },
  {
   "cell_type": "code",
   "execution_count": 22,
   "id": "d2bc1e77",
   "metadata": {
    "scrolled": true
   },
   "outputs": [
    {
     "data": {
      "image/png": "[encoded data removed]",
      "text/plain": [
       "<Figure size 648x432 with 1 Axes>"
      ]
     },
     "metadata": {
      "needs_background": "light"
     },
     "output_type": "display_data"
    }
   ],
   "source": [
    "fig = plt.figure(figsize=(9, 6))\n",
    "#create data for 3d line\n",
    "xline = np.linspace(0, 15, 1000)\n",
    "yline = np.sin(xline)\n",
    "zline = np.cos(xline)\n",
    "#3d container\n",
    "ax = plt.axes(projection = '3d')\n",
    "#3d scatter plot\n",
    "ax.scatter3D(X[:,0], X[:,1], X[:,2])\n",
    "ax.scatter3D(X2[:,0], X2[:,1], X2[:,2])\n",
    "#give labels\n",
    "ax.set_xlabel('x')\n",
    "ax.set_ylabel('y')\n",
    "ax.set_zlabel('z')\n",
    "#save figure\n",
    "plt.savefig('3d_plot.png', dpi = 300);"
   ]
  },
  {
   "cell_type": "code",
   "execution_count": 17,
   "id": "ebba8922",
   "metadata": {},
   "outputs": [],
   "source": [
    "ax.plot3D?"
   ]
  },
  {
   "cell_type": "code",
   "execution_count": null,
   "id": "4d5cb0b7",
   "metadata": {},
   "outputs": [],
   "source": []
  }
 ],
 "metadata": {
  "kernelspec": {
   "display_name": "Python [conda env:bats] *",
   "language": "python",
   "name": "conda-env-bats-py"
  },
  "language_info": {
   "codemirror_mode": {
    "name": "ipython",
    "version": 3
   },
   "file_extension": ".py",
   "mimetype": "text/x-python",
   "name": "python",
   "nbconvert_exporter": "python",
   "pygments_lexer": "ipython3",
   "version": "3.7.10"
  }
 },
 "nbformat": 4,
 "nbformat_minor": 5
}
