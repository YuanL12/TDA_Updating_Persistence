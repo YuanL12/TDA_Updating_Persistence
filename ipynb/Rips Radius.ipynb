{
 "cells": [
  {
   "cell_type": "markdown",
   "source": [
    "# Enclosing Radius of Rips Complex\n",
    "\n",
    "In this notebook, we investigate the enclosing radius optimization for Rips Complexes"
   ],
   "metadata": {}
  },
  {
   "cell_type": "code",
   "execution_count": 1,
   "source": [
    "import bats\n",
    "import numpy as np\n",
    "import scipy.spatial.distance as distance\n",
    "import matplotlib.pyplot as plt\n",
    "import time"
   ],
   "outputs": [],
   "metadata": {}
  },
  {
   "cell_type": "code",
   "execution_count": 26,
   "source": [
    "# generate a data set\n",
    "n = 100\n",
    "p = 2\n",
    "data = np.random.rand(n, p)\n",
    "plt.scatter(data[:,0], data[:,1]);"
   ],
   "outputs": [
    {
     "output_type": "display_data",
     "data": {
      "text/plain": [
       "<Figure size 432x288 with 1 Axes>"
      ],
      "image/png": "[encoded data removed]"
     },
     "metadata": {
      "needs_background": "light"
     }
    }
   ],
   "metadata": {}
  },
  {
   "cell_type": "code",
   "execution_count": 27,
   "source": [
    "# compute pairwise distances\n",
    "D = distance.squareform(distance.pdist(data))"
   ],
   "outputs": [],
   "metadata": {}
  },
  {
   "cell_type": "code",
   "execution_count": 28,
   "source": [
    "# Rips complex for full metric space\n",
    "t0 = time.monotonic()\n",
    "F = bats.LightRipsFiltration(bats.Matrix(D), np.inf, 2)\n",
    "t1 = time.monotonic()\n",
    "print(\"construction time: {} sec.\".format(t1-t0))\n",
    "\n",
    "# compute with F2 coefficents\n",
    "t0 = time.monotonic()\n",
    "R = bats.reduce(F, bats.F2())\n",
    "t1 = time.monotonic()\n",
    "print(\"reduction time: {} sec.\".format(t1-t0))"
   ],
   "outputs": [
    {
     "output_type": "stream",
     "name": "stdout",
     "text": [
      "construction time: 0.09170726500451565 sec.\n",
      "reduction time: 0.7253811160044279 sec.\n"
     ]
    }
   ],
   "metadata": {}
  },
  {
   "cell_type": "markdown",
   "source": [
    "Now, we compute the enclosing radius of the finite metric space"
   ],
   "metadata": {}
  },
  {
   "cell_type": "code",
   "execution_count": 29,
   "source": [
    "r_enc = np.min(np.max(D, axis=0))\n",
    "print(\"enclosing radius = {}\".format(r_enc))\n",
    "r_enc = bats.enclosing_radius(bats.Matrix(D))\n",
    "print(\"enclosing radius = {}\".format(r_enc))"
   ],
   "outputs": [
    {
     "output_type": "stream",
     "name": "stdout",
     "text": [
      "enclosing radius = 0.6759464079293375\n",
      "enclosing radius = 0.6759464079293375\n"
     ]
    }
   ],
   "metadata": {}
  },
  {
   "cell_type": "code",
   "execution_count": 30,
   "source": [
    "# Rips complex up to enclosing radius\n",
    "t0 = time.monotonic()\n",
    "F_enc = bats.LightRipsFiltration(bats.Matrix(D), r_enc, 2)\n",
    "t1 = time.monotonic()\n",
    "print(\"construction time: {} sec.\".format(t1-t0))\n",
    "\n",
    "# compute with F2 coefficents\n",
    "t0 = time.monotonic()\n",
    "R_enc = bats.reduce(F_enc, bats.F2())\n",
    "t1 = time.monotonic()\n",
    "print(\"reduction time: {} sec.\".format(t1-t0))"
   ],
   "outputs": [
    {
     "output_type": "stream",
     "name": "stdout",
     "text": [
      "construction time: 0.06489976801094599 sec.\n",
      "reduction time: 0.263848296017386 sec.\n"
     ]
    }
   ],
   "metadata": {}
  },
  {
   "cell_type": "markdown",
   "source": [
    "Let's compare the number of simplices in each filtration"
   ],
   "metadata": {}
  },
  {
   "cell_type": "code",
   "execution_count": 31,
   "source": [
    "print(\"dim\\tinf\\tr_enc\")\n",
    "for k in range(F.maxdim() + 1):\n",
    "    print(\"{}\\t{}\\t{}\".format(k, F.ncells(k), F_enc.ncells(k)))\n",
    "print(\"--------------------------\")\n",
    "# print(\"\\t{}\\t{}\".format(F.ncells(), F2.ncells()))"
   ],
   "outputs": [
    {
     "output_type": "stream",
     "name": "stdout",
     "text": [
      "dim\tinf\tr_enc\n",
      "0\t100\t100\n",
      "1\t4950\t3429\n",
      "2\t161700\t64577\n",
      "--------------------------\n"
     ]
    }
   ],
   "metadata": {}
  },
  {
   "cell_type": "markdown",
   "source": [
    "The savings are primarily in the number of 2-simplices"
   ],
   "metadata": {}
  },
  {
   "cell_type": "markdown",
   "source": [
    "# Updates"
   ],
   "metadata": {}
  },
  {
   "cell_type": "code",
   "execution_count": 32,
   "source": [
    "data2 = data + 0.02 * np.random.randn(n,p)\n",
    "plt.scatter(data2[:,0], data2[:,1]);"
   ],
   "outputs": [
    {
     "output_type": "display_data",
     "data": {
      "text/plain": [
       "<Figure size 432x288 with 1 Axes>"
      ],
      "image/png": "[encoded data removed]"
     },
     "metadata": {
      "needs_background": "light"
     }
    }
   ],
   "metadata": {}
  },
  {
   "cell_type": "code",
   "execution_count": 33,
   "source": [
    "# compute pairwise distances\n",
    "D2 = distance.squareform(distance.pdist(data2))"
   ],
   "outputs": [],
   "metadata": {}
  },
  {
   "cell_type": "code",
   "execution_count": 34,
   "source": [
    "# Rips complex for full metric space\n",
    "t0 = time.monotonic()\n",
    "F2 = bats.LightRipsFiltration(bats.Matrix(D2), np.inf, 2)\n",
    "t1 = time.monotonic()\n",
    "print(\"construction time: {} sec.\".format(t1-t0))\n",
    "\n",
    "t0 = time.monotonic()\n",
    "update_info = bats.UpdateInfoLightFiltration(F, F2)\n",
    "t1 = time.monotonic()\n",
    "print(\"compute UpdateInfo time: {} sec.\".format(t1-t0))\n",
    "\n",
    "t0 = time.monotonic()\n",
    "R.update_filtration_general(update_info)\n",
    "t1 = time.monotonic()\n",
    "print(\"apply update time: {} sec.\".format(t1-t0))"
   ],
   "outputs": [
    {
     "output_type": "stream",
     "name": "stdout",
     "text": [
      "construction time: 0.11893748000147752 sec.\n",
      "compute UpdateInfo time: 0.17407521200948395 sec.\n",
      "apply update time: 0.10864161100471392 sec.\n"
     ]
    }
   ],
   "metadata": {}
  },
  {
   "cell_type": "code",
   "execution_count": 35,
   "source": [
    "r_enc2 = np.min(np.max(D2, axis=0))\n",
    "\n",
    "t0 = time.monotonic()\n",
    "F_enc2 = bats.LightRipsFiltration(bats.Matrix(D2), r_enc2, 2)\n",
    "t1 = time.monotonic()\n",
    "print(\"construction time: {} sec.\".format(t1-t0))\n",
    "\n",
    "t0 = time.monotonic()\n",
    "update_info_enc = bats.UpdateInfoLightFiltration(F_enc, F_enc2)\n",
    "t1 = time.monotonic()\n",
    "print(\"compute UpdateInfo time: {} sec.\".format(t1-t0))\n",
    "\n",
    "t0 = time.monotonic()\n",
    "R_enc.update_filtration_general(update_info_enc)\n",
    "t1 = time.monotonic()\n",
    "print(\"apply update time: {} sec.\".format(t1-t0))"
   ],
   "outputs": [
    {
     "output_type": "stream",
     "name": "stdout",
     "text": [
      "construction time: 0.04204494401346892 sec.\n",
      "compute UpdateInfo time: 0.08396302899927832 sec.\n",
      "apply update time: 0.10169626100105233 sec.\n"
     ]
    }
   ],
   "metadata": {}
  }
 ],
 "metadata": {
  "kernelspec": {
   "display_name": "Python [conda env:bats] *",
   "language": "python",
   "name": "conda-env-bats-py"
  },
  "language_info": {
   "codemirror_mode": {
    "name": "ipython",
    "version": 3
   },
   "file_extension": ".py",
   "mimetype": "text/x-python",
   "name": "python",
   "nbconvert_exporter": "python",
   "pygments_lexer": "ipython3",
   "version": "3.7.10"
  }
 },
 "nbformat": 4,
 "nbformat_minor": 4
}