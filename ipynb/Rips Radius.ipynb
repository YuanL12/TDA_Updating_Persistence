{
 "cells": [
  {
   "cell_type": "markdown",
   "metadata": {},
   "source": [
    "# Enclosing Radius of Rips Complex\n",
    "\n",
    "In this notebook, we investigate the enclosing radius optimization for Rips Complexes"
   ]
  },
  {
   "cell_type": "code",
   "execution_count": 1,
   "metadata": {},
   "outputs": [],
   "source": [
    "import bats\n",
    "import numpy as np\n",
    "import scipy.spatial.distance as distance\n",
    "import matplotlib.pyplot as plt\n",
    "import time"
   ]
  },
  {
   "cell_type": "code",
   "execution_count": 2,
   "metadata": {},
   "outputs": [
    {
     "data": {
      "image/png": "[encoded data removed]",
      "text/plain": [
       "<Figure size 432x288 with 1 Axes>"
      ]
     },
     "metadata": {
      "needs_background": "light"
     },
     "output_type": "display_data"
    }
   ],
   "source": [
    "# generate a data set\n",
    "n = 100\n",
    "p = 2\n",
    "data = np.random.rand(n, p)\n",
    "plt.scatter(data[:,0], data[:,1]);"
   ]
  },
  {
   "cell_type": "code",
   "execution_count": 3,
   "metadata": {},
   "outputs": [],
   "source": [
    "# compute pairwise distances\n",
    "D = distance.squareform(distance.pdist(data))"
   ]
  },
  {
   "cell_type": "code",
   "execution_count": 4,
   "metadata": {},
   "outputs": [
    {
     "name": "stdout",
     "output_type": "stream",
     "text": [
      "construction time: 0.20470151799963787 sec.\n",
      "reduction time: 0.9999809320142958 sec.\n"
     ]
    }
   ],
   "source": [
    "# Rips complex for full metric space\n",
    "t0 = time.monotonic()\n",
    "F = bats.RipsFiltration(bats.Matrix(D), np.inf, 2)\n",
    "t1 = time.monotonic()\n",
    "print(\"construction time: {} sec.\".format(t1-t0))\n",
    "\n",
    "# compute with F2 coefficents\n",
    "t0 = time.monotonic()\n",
    "R = bats.reduce(F, bats.F2())\n",
    "t1 = time.monotonic()\n",
    "print(\"reduction time: {} sec.\".format(t1-t0))"
   ]
  },
  {
   "cell_type": "markdown",
   "metadata": {},
   "source": [
    "Now, we compute the enclosing radius of the finite metric space"
   ]
  },
  {
   "cell_type": "code",
   "execution_count": 5,
   "metadata": {},
   "outputs": [
    {
     "name": "stdout",
     "output_type": "stream",
     "text": [
      "enclosing radius = 0.7064584468667969\n"
     ]
    }
   ],
   "source": [
    "r_enc = np.min(np.max(D, axis=0))\n",
    "print(\"enclosing radius = {}\".format(r_enc))"
   ]
  },
  {
   "cell_type": "code",
   "execution_count": 6,
   "metadata": {},
   "outputs": [
    {
     "name": "stdout",
     "output_type": "stream",
     "text": [
      "construction time: 0.1134103529911954 sec.\n",
      "reduction time: 0.4158541889919434 sec.\n"
     ]
    }
   ],
   "source": [
    "# Rips complex up to enclosing radius\n",
    "t0 = time.monotonic()\n",
    "F_enc = bats.RipsFiltration(bats.Matrix(D), r_enc, 2)\n",
    "t1 = time.monotonic()\n",
    "print(\"construction time: {} sec.\".format(t1-t0))\n",
    "\n",
    "# compute with F2 coefficents\n",
    "t0 = time.monotonic()\n",
    "R_enc = bats.reduce(F_enc, bats.F2())\n",
    "t1 = time.monotonic()\n",
    "print(\"reduction time: {} sec.\".format(t1-t0))"
   ]
  },
  {
   "cell_type": "markdown",
   "metadata": {},
   "source": [
    "Let's compare the number of simplices in each filtration"
   ]
  },
  {
   "cell_type": "code",
   "execution_count": 7,
   "metadata": {},
   "outputs": [
    {
     "name": "stdout",
     "output_type": "stream",
     "text": [
      "dim\tinf\tr_enc\n",
      "0\t100\t100\n",
      "1\t4950\t3848\n",
      "2\t161700\t85768\n",
      "--------------------------\n"
     ]
    }
   ],
   "source": [
    "print(\"dim\\tinf\\tr_enc\")\n",
    "for k in range(F.maxdim() + 1):\n",
    "    print(\"{}\\t{}\\t{}\".format(k, F.ncells(k), F_enc.ncells(k)))\n",
    "print(\"--------------------------\")\n",
    "# print(\"\\t{}\\t{}\".format(F.ncells(), F2.ncells()))"
   ]
  },
  {
   "cell_type": "markdown",
   "metadata": {},
   "source": [
    "The savings are primarily in the number of 2-simplices"
   ]
  },
  {
   "cell_type": "markdown",
   "metadata": {},
   "source": [
    "# Updates"
   ]
  },
  {
   "cell_type": "code",
   "execution_count": 8,
   "metadata": {},
   "outputs": [
    {
     "data": {
      "image/png": "[encoded data removed]",
      "text/plain": [
       "<Figure size 432x288 with 1 Axes>"
      ]
     },
     "metadata": {
      "needs_background": "light"
     },
     "output_type": "display_data"
    }
   ],
   "source": [
    "data2 = data + 0.05 * np.random.randn(n,p)\n",
    "plt.scatter(data2[:,0], data2[:,1]);"
   ]
  },
  {
   "cell_type": "code",
   "execution_count": 9,
   "metadata": {},
   "outputs": [],
   "source": [
    "# compute pairwise distances\n",
    "D2 = distance.squareform(distance.pdist(data2))"
   ]
  },
  {
   "cell_type": "code",
   "execution_count": 10,
   "metadata": {},
   "outputs": [
    {
     "name": "stdout",
     "output_type": "stream",
     "text": [
      "construction time: 0.2751890479994472 sec.\n",
      "compute UpdateInfo time: 0.2768022550153546 sec.\n",
      "apply update time: 0.2173095649923198 sec.\n"
     ]
    }
   ],
   "source": [
    "# Rips complex for full metric space\n",
    "t0 = time.monotonic()\n",
    "F2 = bats.RipsFiltration(bats.Matrix(D2), np.inf, 2)\n",
    "t1 = time.monotonic()\n",
    "print(\"construction time: {} sec.\".format(t1-t0))\n",
    "\n",
    "t0 = time.monotonic()\n",
    "update_info = bats.UpdateInfoFiltration(F, F2)\n",
    "t1 = time.monotonic()\n",
    "print(\"compute UpdateInfo time: {} sec.\".format(t1-t0))\n",
    "\n",
    "t0 = time.monotonic()\n",
    "R.update_filtration_general(update_info)\n",
    "t1 = time.monotonic()\n",
    "print(\"apply update time: {} sec.\".format(t1-t0))"
   ]
  },
  {
   "cell_type": "code",
   "execution_count": 12,
   "metadata": {},
   "outputs": [
    {
     "name": "stdout",
     "output_type": "stream",
     "text": [
      "construction time: 0.1301336589967832 sec.\n",
      "compute UpdateInfo time: 0.12086544098565355 sec.\n"
     ]
    }
   ],
   "source": [
    "r_enc2 = np.min(np.max(D2, axis=0))\n",
    "\n",
    "t0 = time.monotonic()\n",
    "F_enc2 = bats.RipsFiltration(bats.Matrix(D2), r_enc2, 2)\n",
    "t1 = time.monotonic()\n",
    "print(\"construction time: {} sec.\".format(t1-t0))\n",
    "\n",
    "t0 = time.monotonic()\n",
    "update_info_enc = bats.UpdateInfoFiltration(F_enc, F_enc2)\n",
    "t1 = time.monotonic()\n",
    "print(\"compute UpdateInfo time: {} sec.\".format(t1-t0))\n",
    "\n",
    "# t0 = time.monotonic()\n",
    "# R_enc.update_filtration_general(update_info_enc)\n",
    "# t1 = time.monotonic()\n",
    "# print(\"apply update time: {} sec.\".format(t1-t0))"
   ]
  },
  {
   "cell_type": "markdown",
   "metadata": {},
   "source": [
    "The update itself is really slow..."
   ]
  },
  {
   "cell_type": "code",
   "execution_count": 13,
   "metadata": {},
   "outputs": [
    {
     "name": "stdout",
     "output_type": "stream",
     "text": [
      "apply update time: 242.73234906201833 sec.\n"
     ]
    }
   ],
   "source": [
    "t0 = time.monotonic()\n",
    "R_enc.update_filtration_general(update_info_enc)\n",
    "t1 = time.monotonic()\n",
    "print(\"apply update time: {} sec.\".format(t1-t0))"
   ]
  },
  {
   "cell_type": "code",
   "execution_count": null,
   "metadata": {},
   "outputs": [],
   "source": []
  }
 ],
 "metadata": {
  "kernelspec": {
   "display_name": "Python [conda env:bats]",
   "language": "python",
   "name": "conda-env-bats-py"
  },
  "language_info": {
   "codemirror_mode": {
    "name": "ipython",
    "version": 3
   },
   "file_extension": ".py",
   "mimetype": "text/x-python",
   "name": "python",
   "nbconvert_exporter": "python",
   "pygments_lexer": "ipython3",
   "version": "3.7.10"
  }
 },
 "nbformat": 4,
 "nbformat_minor": 4
}
