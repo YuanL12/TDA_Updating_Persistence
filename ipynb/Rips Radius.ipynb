{
 "cells": [
  {
   "cell_type": "markdown",
   "metadata": {},
   "source": [
    "# Rips Filtration\n",
    "\n",
    "In this notebook, we introduce how to\n",
    "- compute persistent homology in a stanadard way\n",
    "- using enclosing radius optimization to save time\n",
    "- update persistence (compute PH with warm start). "
   ]
  },
  {
   "cell_type": "code",
   "execution_count": 1,
   "metadata": {},
   "outputs": [],
   "source": [
    "import bats\n",
    "import numpy as np\n",
    "import scipy.spatial.distance as distance\n",
    "import matplotlib.pyplot as plt\n",
    "import time"
   ]
  },
  {
   "cell_type": "code",
   "execution_count": 2,
   "metadata": {},
   "outputs": [
    {
     "data": {
      "text/plain": [
       "<matplotlib.collections.PathCollection at 0x7fb56dbf4a90>"
      ]
     },
     "execution_count": 2,
     "metadata": {},
     "output_type": "execute_result"
    }
   ],
   "source": [
    "# generate a random data set\n",
    "n = 100\n",
    "p = 2\n",
    "data = np.random.rand(n, p)\n",
    "plt.scatter(data[:,0], data[:,1])"
   ]
  },
  {
   "cell_type": "code",
   "execution_count": 3,
   "metadata": {},
   "outputs": [
    {
     "name": "stdout",
     "output_type": "stream",
     "text": [
      "construction time: 0.04950962300000006 sec.\n",
      "reduction time: 0.582515844 sec.\n"
     ]
    }
   ],
   "source": [
    "# compute pairwise distances\n",
    "D = distance.squareform(distance.pdist(data))\n",
    "\n",
    "# Rips complex for full metric space\n",
    "t0 = time.monotonic()\n",
    "F = bats.LightRipsFiltration(bats.Matrix(D), np.inf, 2)\n",
    "t1 = time.monotonic()\n",
    "print(\"construction time: {} sec.\".format(t1-t0))\n",
    "\n",
    "# compute with F2 coefficents\n",
    "t0 = time.monotonic()\n",
    "R = bats.reduce(F, bats.F2())\n",
    "t1 = time.monotonic()\n",
    "print(\"reduction time: {} sec.\".format(t1-t0))"
   ]
  },
  {
   "cell_type": "markdown",
   "metadata": {},
   "source": [
    "### Enclosing radius\n",
    "Now, we compute the enclosing radius of the finite metric space, which will be efficient to compute the homology of Rips Complex.\n",
    "\n",
    "**Math explanation**:\n",
    "\n",
    "The reason behind it is because at enclosing radius, all vertices are connected to an apex, which makes the space contractible and so with zero reduced homology.\n"
   ]
  },
  {
   "cell_type": "code",
   "execution_count": 4,
   "metadata": {},
   "outputs": [
    {
     "name": "stdout",
     "output_type": "stream",
     "text": [
      "enclosing radius = 0.6714091804599316\n",
      "enclosing radius = 0.6714091804599316\n"
     ]
    }
   ],
   "source": [
    "# Two ways to find Enclosing Radius\n",
    "r_enc = np.min(np.max(D, axis=0))\n",
    "print(\"enclosing radius = {}\".format(r_enc))\n",
    "\n",
    "r_enc = bats.enclosing_radius(bats.Matrix(D))\n",
    "print(\"enclosing radius = {}\".format(r_enc))"
   ]
  },
  {
   "cell_type": "code",
   "execution_count": 5,
   "metadata": {},
   "outputs": [
    {
     "name": "stdout",
     "output_type": "stream",
     "text": [
      "construction time: 0.02777356299999978 sec.\n",
      "reduction time: 0.21394023200000012 sec.\n"
     ]
    }
   ],
   "source": [
    "# Rips complex up to enclosing radius\n",
    "t0 = time.monotonic()\n",
    "F_enc = bats.LightRipsFiltration(bats.Matrix(D), r_enc, 2)\n",
    "t1 = time.monotonic()\n",
    "print(\"construction time: {} sec.\".format(t1-t0))\n",
    "\n",
    "# compute with F2 coefficents\n",
    "t0 = time.monotonic()\n",
    "R_enc = bats.reduce(F_enc, bats.F2())\n",
    "t1 = time.monotonic()\n",
    "print(\"reduction time: {} sec.\".format(t1-t0))"
   ]
  },
  {
   "cell_type": "markdown",
   "metadata": {},
   "source": [
    "Let's compare the number of simplices in each filtration"
   ]
  },
  {
   "cell_type": "code",
   "execution_count": 6,
   "metadata": {},
   "outputs": [
    {
     "name": "stdout",
     "output_type": "stream",
     "text": [
      "dim\tinf\tr_enc\n",
      "0\t100\t100\n",
      "1\t4950\t3523\n",
      "2\t161700\t69831\n",
      "--------------------------\n"
     ]
    }
   ],
   "source": [
    "print(\"dim\\tinf\\tr_enc\")\n",
    "for k in range(F.maxdim() + 1):\n",
    "    print(\"{}\\t{}\\t{}\".format(k, F.ncells(k), F_enc.ncells(k)))\n",
    "print(\"--------------------------\")\n",
    "# print(\"\\t{}\\t{}\".format(F.ncells(), F2.ncells()))"
   ]
  },
  {
   "cell_type": "markdown",
   "metadata": {},
   "source": [
    "The savings are primarily in the number of 2-simplices"
   ]
  },
  {
   "cell_type": "markdown",
   "metadata": {},
   "source": [
    "# Updates"
   ]
  },
  {
   "cell_type": "code",
   "execution_count": 7,
   "metadata": {},
   "outputs": [],
   "source": [
    "data2 = data + 0.02 * np.random.randn(n,p)\n",
    "plt.scatter(data2[:,0], data2[:,1]);"
   ]
  },
  {
   "cell_type": "code",
   "execution_count": 8,
   "metadata": {},
   "outputs": [
    {
     "name": "stdout",
     "output_type": "stream",
     "text": [
      "construction time: 0.04582071799999987 sec.\n",
      "compute UpdateInfo time: 0.16435291499999982 sec.\n",
      "apply update time: 0.04149440999999987 sec.\n"
     ]
    }
   ],
   "source": [
    "# compute pairwise distances\n",
    "D2 = distance.squareform(distance.pdist(data2))\n",
    "\n",
    "# Rips complex for full metric space\n",
    "t0 = time.monotonic()\n",
    "F2 = bats.LightRipsFiltration(bats.Matrix(D2), np.inf, 2)\n",
    "t1 = time.monotonic()\n",
    "print(\"construction time: {} sec.\".format(t1-t0))\n",
    "\n",
    "t0 = time.monotonic()\n",
    "update_info = bats.UpdateInfoLightFiltration(F, F2)\n",
    "t1 = time.monotonic()\n",
    "print(\"compute UpdateInfo time: {} sec.\".format(t1-t0))\n",
    "\n",
    "t0 = time.monotonic()\n",
    "R.update_filtration_general(update_info)\n",
    "t1 = time.monotonic()\n",
    "print(\"apply update time: {} sec.\".format(t1-t0))"
   ]
  },
  {
   "cell_type": "code",
   "execution_count": 9,
   "metadata": {},
   "outputs": [
    {
     "name": "stdout",
     "output_type": "stream",
     "text": [
      "construction time: 0.02074949299999984 sec.\n",
      "compute UpdateInfo time: 0.07817569700000027 sec.\n",
      "apply update time: 0.044906350999999844 sec.\n"
     ]
    }
   ],
   "source": [
    "r_enc2 = np.min(np.max(D2, axis=0))\n",
    "\n",
    "t0 = time.monotonic()\n",
    "F_enc2 = bats.LightRipsFiltration(bats.Matrix(D2), r_enc2, 2)\n",
    "t1 = time.monotonic()\n",
    "print(\"construction time: {} sec.\".format(t1-t0))\n",
    "\n",
    "t0 = time.monotonic()\n",
    "update_info_enc = bats.UpdateInfoLightFiltration(F_enc, F_enc2)\n",
    "t1 = time.monotonic()\n",
    "print(\"compute UpdateInfo time: {} sec.\".format(t1-t0))\n",
    "\n",
    "t0 = time.monotonic()\n",
    "R_enc.update_filtration_general(update_info_enc)\n",
    "t1 = time.monotonic()\n",
    "print(\"apply update time: {} sec.\".format(t1-t0))"
   ]
  }
 ],
 "metadata": {
  "kernelspec": {
   "display_name": "Python 3",
   "language": "python",
   "name": "python3"
  },
  "language_info": {
   "codemirror_mode": {
    "name": "ipython",
    "version": 3
   },
   "file_extension": ".py",
   "mimetype": "text/x-python",
   "name": "python",
   "nbconvert_exporter": "python",
   "pygments_lexer": "ipython3",
   "version": "3.7.10"
  }
 },
 "nbformat": 4,
 "nbformat_minor": 4
}
