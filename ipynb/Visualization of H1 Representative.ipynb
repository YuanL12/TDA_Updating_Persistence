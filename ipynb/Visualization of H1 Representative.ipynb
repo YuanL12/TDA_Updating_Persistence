{
 "cells": [
  {
   "cell_type": "markdown",
   "id": "b424b40a",
   "metadata": {},
   "source": [
    "# Visualization of a representative of H1"
   ]
  },
  {
   "cell_type": "code",
   "execution_count": 1,
   "id": "2b7c8dec",
   "metadata": {},
   "outputs": [],
   "source": [
    "import bats\n",
    "import keras\n",
    "import matplotlib.pyplot as plt\n",
    "from freudenthal import freudenthal_grid\n",
    "import time\n",
    "import numpy as np"
   ]
  },
  {
   "cell_type": "code",
   "execution_count": 2,
   "id": "826ef075",
   "metadata": {},
   "outputs": [],
   "source": [
    "from keras.datasets import mnist"
   ]
  },
  {
   "cell_type": "code",
   "execution_count": 3,
   "id": "b858b118",
   "metadata": {},
   "outputs": [
    {
     "name": "stdout",
     "output_type": "stream",
     "text": [
      "X_train: (60000, 28, 28)\n",
      "Y_train: (60000,)\n",
      "X_test:  (10000, 28, 28)\n",
      "Y_test:  (10000,)\n"
     ]
    }
   ],
   "source": [
    "(train_X, train_y), (test_X, test_y) = mnist.load_data()\n",
    "print('X_train: ' + str(train_X.shape))\n",
    "print('Y_train: ' + str(train_y.shape))\n",
    "print('X_test:  '  + str(test_X.shape))\n",
    "print('Y_test:  '  + str(test_y.shape))"
   ]
  },
  {
   "cell_type": "code",
   "execution_count": 4,
   "id": "e0cf33b3",
   "metadata": {},
   "outputs": [
    {
     "data": {
      "text/plain": [
       "<matplotlib.image.AxesImage at 0x7f5284eb2890>"
      ]
     },
     "execution_count": 4,
     "metadata": {},
     "output_type": "execute_result"
    },
    {
     "data": {
      "image/png": "[encoded data removed]",
      "text/plain": [
       "<Figure size 432x288 with 1 Axes>"
      ]
     },
     "metadata": {
      "needs_background": "light"
     },
     "output_type": "display_data"
    }
   ],
   "source": [
    "img = train_X[0]\n",
    "img = 255 - img\n",
    "plt.imshow(img, cmap=plt.get_cmap('gray'))"
   ]
  },
  {
   "cell_type": "code",
   "execution_count": 5,
   "id": "04ef1885",
   "metadata": {},
   "outputs": [
    {
     "name": "stdout",
     "output_type": "stream",
     "text": [
      "time to extend: 0.003226756991352886 sec.\n",
      "time to construct: 0.002169586019590497 sec.\n",
      "time to reduce: 0.014967468974646181 sec.\n"
     ]
    }
   ],
   "source": [
    "m, n = img.shape\n",
    "X = freudenthal_grid(m, n)\n",
    "\n",
    "t0 = time.monotonic()\n",
    "vals, imap = bats.lower_star_filtration(X, img.flatten())\n",
    "t1 = time.monotonic()\n",
    "print(\"time to extend: {} sec.\".format(t1 - t0))\n",
    "\n",
    "t0 = time.monotonic()\n",
    "F = bats.FilteredSimplicialComplex(X, vals)\n",
    "t1 = time.monotonic()\n",
    "print(\"time to construct: {} sec.\".format(t1 - t0))\n",
    "\n",
    "t0 = time.monotonic()\n",
    "R = bats.reduce(F, bats.F2())\n",
    "t1 = time.monotonic()\n",
    "print(\"time to reduce: {} sec.\".format(t1 - t0))"
   ]
  },
  {
   "cell_type": "code",
   "execution_count": 22,
   "id": "676bd01b",
   "metadata": {},
   "outputs": [
    {
     "name": "stdout",
     "output_type": "stream",
     "text": [
      "time to extend: 0.0006139999895822257 sec.\n",
      "time to construct: 0.0011031719914171845 sec.\n",
      "time to reduce: 0.0027483779995236546 sec.\n",
      "1 : (90,255) <1554,1055>\n"
     ]
    },
    {
     "data": {
      "text/plain": [
       "(<Figure size 432x288 with 1 Axes>,\n",
       " <AxesSubplot:xlabel='Birth', ylabel='Death'>)"
      ]
     },
     "execution_count": 22,
     "metadata": {},
     "output_type": "execute_result"
    },
    {
     "data": {
      "image/png": "[encoded data removed]",
      "text/plain": [
       "<Figure size 432x288 with 1 Axes>"
      ]
     },
     "metadata": {
      "needs_background": "light"
     },
     "output_type": "display_data"
    },
    {
     "data": {
      "image/png": "[encoded data removed]",
      "text/plain": [
       "<Figure size 432x288 with 1 Axes>"
      ]
     },
     "metadata": {
      "needs_background": "light"
     },
     "output_type": "display_data"
    }
   ],
   "source": [
    "img = train_X[1]\n",
    "img = 255 - img\n",
    "plt.imshow(img, cmap=plt.get_cmap('gray'))\n",
    "\n",
    "m, n = img.shape\n",
    "X = freudenthal_grid(m, n)\n",
    "\n",
    "t0 = time.monotonic()\n",
    "vals, imap = bats.lower_star_filtration(X, img.flatten())\n",
    "t1 = time.monotonic()\n",
    "print(\"time to extend: {} sec.\".format(t1 - t0))\n",
    "\n",
    "t0 = time.monotonic()\n",
    "F = bats.FilteredSimplicialComplex(X, vals)\n",
    "t1 = time.monotonic()\n",
    "print(\"time to construct: {} sec.\".format(t1 - t0))\n",
    "\n",
    "t0 = time.monotonic()\n",
    "R = bats.reduce(F, bats.F2())\n",
    "t1 = time.monotonic()\n",
    "print(\"time to reduce: {} sec.\".format(t1 - t0))\n",
    "\n",
    "# ps = R.persistence_pairs(0, False) +  R.persistence_pairs(1, False)\n",
    "ps = R.persistence_pairs(1, False)\n",
    "nzps = []\n",
    "for p in ps:\n",
    "    if p.length() > 50:\n",
    "        print(p)\n",
    "        nzps.append(p)\n",
    "        \n",
    "bats.persistence_diagram(ps)"
   ]
  },
  {
   "cell_type": "code",
   "execution_count": 23,
   "id": "5f2d5c9a",
   "metadata": {},
   "outputs": [
    {
     "data": {
      "text/plain": [
       "<matplotlib.legend.Legend at 0x7f5283f924d0>"
      ]
     },
     "execution_count": 23,
     "metadata": {},
     "output_type": "execute_result"
    },
    {
     "data": {
      "image/png": "[encoded data removed]",
      "text/plain": [
       "<Figure size 432x288 with 1 Axes>"
      ]
     },
     "metadata": {
      "needs_background": "light"
     },
     "output_type": "display_data"
    }
   ],
   "source": [
    "# visualization of a representative\n",
    "plt.imshow(img, origin='upper', cmap=plt.get_cmap('gray'))\n",
    "\n",
    "for pi, p in enumerate(nzps):\n",
    "    c = R.representative(p, False)\n",
    "    d = p.dim()\n",
    "    skel0 = []\n",
    "    for i in c.nzinds():\n",
    "        skel0.extend(X.get_simplex(d, i))\n",
    "\n",
    "    skel0 = np.unique(skel0)\n",
    "\n",
    "\n",
    "    xx = skel0 % m\n",
    "    yy = skel0 // m\n",
    "    plt.scatter(xx[:],yy[:],label=\"H{}, #{}\".format(d, pi))\n",
    "    \n",
    "plt.legend(bbox_to_anchor=(1.05, 1), loc='upper left')"
   ]
  },
  {
   "cell_type": "code",
   "execution_count": null,
   "id": "f3cf4f7d",
   "metadata": {},
   "outputs": [],
   "source": []
  }
 ],
 "metadata": {
  "kernelspec": {
   "display_name": "Python [conda env:bats] *",
   "language": "python",
   "name": "conda-env-bats-py"
  },
  "language_info": {
   "codemirror_mode": {
    "name": "ipython",
    "version": 3
   },
   "file_extension": ".py",
   "mimetype": "text/x-python",
   "name": "python",
   "nbconvert_exporter": "python",
   "pygments_lexer": "ipython3",
   "version": "3.7.10"
  }
 },
 "nbformat": 4,
 "nbformat_minor": 5
}
