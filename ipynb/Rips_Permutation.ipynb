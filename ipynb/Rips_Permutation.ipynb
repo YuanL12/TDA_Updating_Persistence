{
 "cells": [
  {
   "cell_type": "code",
   "execution_count": 1,
   "id": "66eb882a",
   "metadata": {},
   "outputs": [],
   "source": [
    "import numpy as np\n",
    "import matplotlib.pyplot as plt\n",
    "import bats\n",
    "import time\n",
    "import hera_tda as hera"
   ]
  },
  {
   "cell_type": "code",
   "execution_count": 2,
   "id": "baa26d23",
   "metadata": {},
   "outputs": [],
   "source": [
    "def barcodes_identical(ps0, ps1):\n",
    "    ident = True\n",
    "    for p, q in zip(ps0, ps1):\n",
    "        ident = ident and\\\n",
    "        p.dim() == q.dim() and\\\n",
    "        p.birth() == q.birth() and\\\n",
    "        p.death() == q.death() and\\\n",
    "        p.birth_ind() == q.birth_ind() and\\\n",
    "        p.death_ind() == q.death_ind()\n",
    "        \n",
    "    return ident\n",
    "\n",
    "def bottleneck_max(ps0, ps1, dmax=1):\n",
    "    dist = 0\n",
    "    for dim in range(dmax+1):\n",
    "        ps0a = [p for p in ps0 if p.dim() == dim and p.length() > 0]\n",
    "        ps1a = [p for p in ps1 if p.dim() == dim and p.length() > 0]\n",
    "        dist += hera.BottleneckDistance(ps0a, ps1a)[0]\n",
    "        \n",
    "    return dist\n",
    "\n",
    "\n",
    "def normalized_kt(U, X):\n",
    "    \"\"\"\n",
    "    Compute normalized kendall-tau distance given update information U and starting filtration X\n",
    "    \"\"\"\n",
    "    k = 0\n",
    "    maxk = 0\n",
    "    for d in range(X.maxdim() + 1):\n",
    "        nd = X.ncells(d)\n",
    "        maxk += (nd * (nd - 1)) // 2\n",
    "        k += U.kendall_tau_dists[d]\n",
    "        \n",
    "    return k / maxk"
   ]
  },
  {
   "cell_type": "code",
   "execution_count": 3,
   "id": "010d6282",
   "metadata": {},
   "outputs": [
    {
     "data": {
      "image/png": "[encoded data removed]",
      "text/plain": [
       "<Figure size 432x288 with 1 Axes>"
      ]
     },
     "metadata": {
      "needs_background": "light"
     },
     "output_type": "display_data"
    }
   ],
   "source": [
    "def gen_fig_8(n, r=1.0, sigma=0.1):\n",
    "    X = np.random.randn(n,2)\n",
    "    X = r * X / np.linalg.norm(X, axis=1).reshape(-1,1)\n",
    "    X += sigma*np.random.randn(n, 2) + np.random.choice([-1/np.sqrt(2),1/np.sqrt(2)], size=(n,1))\n",
    "    return X\n",
    "\n",
    "np.random.seed(0)\n",
    "n = 150\n",
    "X = gen_fig_8(n)\n",
    "noise = np.random.normal(size=X.shape)\n",
    "\n",
    "plt.scatter(X[:,0], X[:,1])\n",
    "plt.show()"
   ]
  },
  {
   "cell_type": "code",
   "execution_count": 4,
   "id": "141bfd82",
   "metadata": {},
   "outputs": [
    {
     "name": "stdout",
     "output_type": "stream",
     "text": [
      "0.20725138194393367\n",
      "0.20228998200036585\n"
     ]
    }
   ],
   "source": [
    "# build filtration\n",
    "r = np.inf\n",
    "Y = X + 0.1*noise\n",
    "t0 = time.monotonic()\n",
    "R0 = bats.LightRipsFiltration(bats.DataSet(bats.Matrix(X)), bats.Euclidean(), r, 2)\n",
    "t1 = time.monotonic()\n",
    "print(t1 - t0)\n",
    "\n",
    "t0 = time.monotonic()\n",
    "R1 = bats.LightRipsFiltration(bats.DataSet(bats.Matrix(Y)), bats.Euclidean(), r, 2)\n",
    "t1 = time.monotonic()\n",
    "print(t1 - t0)"
   ]
  },
  {
   "cell_type": "code",
   "execution_count": 5,
   "id": "99c0fd1d",
   "metadata": {},
   "outputs": [
    {
     "name": "stdout",
     "output_type": "stream",
     "text": [
      "R0: 2.11 sec.\n",
      "R1: 2.24 sec.\n",
      "find UpdatInfo: 0.15 sec.\n",
      "update: 0.36 sec.\n",
      "bottleneck dist = 0.0\n"
     ]
    }
   ],
   "source": [
    "degree = -1\n",
    "t0 = time.monotonic()\n",
    "DG0 = bats.FilteredF2DGVectorSpace(R0, degree)\n",
    "RC0 = bats.ReducedFilteredF2DGVectorSpace(DG0, bats.standard_reduction_flag(), bats.clearing_flag(), bats.compute_basis_flag())\n",
    "t1 = time.monotonic()\n",
    "print(\"R0: {:.2f} sec.\".format(t1 - t0))\n",
    "\n",
    "t0 = time.monotonic()\n",
    "DG1 = bats.FilteredF2DGVectorSpace(R1, degree)\n",
    "RC1 = bats.ReducedFilteredF2DGVectorSpace(DG1, bats.standard_reduction_flag(), bats.clearing_flag(), bats.compute_basis_flag())\n",
    "t1 = time.monotonic()\n",
    "print(\"R1: {:.2f} sec.\".format(t1 - t0))\n",
    "\n",
    "t0 = time.monotonic()\n",
    "U = bats.UpdateInfo2(R0, R1)\n",
    "t1 = time.monotonic()\n",
    "print(\"find UpdatInfo: {:.2f} sec.\".format(t1 - t0))\n",
    "\n",
    "t0 = time.monotonic()\n",
    "RC0.update(U)\n",
    "t1 = time.monotonic()\n",
    "print(\"update: {:.2f} sec.\".format(t1 - t0))\n",
    "\n",
    "ps0 = RC0.persistence_pairs(0) + RC0.persistence_pairs(1)\n",
    "ps1 = RC1.persistence_pairs(0) + RC1.persistence_pairs(1)\n",
    "\n",
    "print(\"bottleneck dist =\", bottleneck_max(ps0, ps1))"
   ]
  },
  {
   "cell_type": "code",
   "execution_count": 6,
   "id": "1f79d18c",
   "metadata": {},
   "outputs": [
    {
     "name": "stdout",
     "output_type": "stream",
     "text": [
      "R0: 0.54 sec.\n",
      "R1: 0.50 sec.\n",
      "find UpdatInfo: 0.15 sec.\n",
      "update: 0.67 sec.\n",
      "bottleneck dist = 0.0\n"
     ]
    }
   ],
   "source": [
    "degree = +1\n",
    "t0 = time.monotonic()\n",
    "DG0 = bats.FilteredF2DGVectorSpace(R0, degree)\n",
    "RC0 = bats.ReducedFilteredF2DGVectorSpace(DG0, bats.standard_reduction_flag(), bats.clearing_flag(), bats.compute_basis_flag())\n",
    "t1 = time.monotonic()\n",
    "print(\"R0: {:.2f} sec.\".format(t1 - t0))\n",
    "\n",
    "t0 = time.monotonic()\n",
    "DG1 = bats.FilteredF2DGVectorSpace(R1, degree)\n",
    "RC1 = bats.ReducedFilteredF2DGVectorSpace(DG1, bats.standard_reduction_flag(), bats.clearing_flag(), bats.compute_basis_flag())\n",
    "t1 = time.monotonic()\n",
    "print(\"R1: {:.2f} sec.\".format(t1 - t0))\n",
    "\n",
    "t0 = time.monotonic()\n",
    "U = bats.UpdateInfo2(R0, R1)\n",
    "t1 = time.monotonic()\n",
    "print(\"find UpdatInfo: {:.2f} sec.\".format(t1 - t0))\n",
    "\n",
    "t0 = time.monotonic()\n",
    "RC0.update(U)\n",
    "t1 = time.monotonic()\n",
    "print(\"update: {:.2f} sec.\".format(t1 - t0))\n",
    "\n",
    "ps0 = RC0.persistence_pairs(0) + RC0.persistence_pairs(1)\n",
    "ps1 = RC1.persistence_pairs(0) + RC1.persistence_pairs(1)\n",
    "\n",
    "print(\"bottleneck dist =\", bottleneck_max(ps0, ps1))"
   ]
  },
  {
   "cell_type": "markdown",
   "id": "bea0541e",
   "metadata": {},
   "source": [
    "Cohomology+clearing works very well on full Rips filtration (inf radius) as claimed in papers. However update on cohomology is twice slower."
   ]
  },
  {
   "cell_type": "code",
   "execution_count": 7,
   "id": "2b489839",
   "metadata": {},
   "outputs": [],
   "source": [
    "def find_kt(U):\n",
    "    kts = []\n",
    "    for p in U.perm:\n",
    "        kts.append(bats.kendall_tau(p))\n",
    "    return kts"
   ]
  },
  {
   "cell_type": "code",
   "execution_count": 8,
   "id": "90531145",
   "metadata": {},
   "outputs": [
    {
     "data": {
      "text/plain": [
       "[0, 2974578, 7979125018]"
      ]
     },
     "execution_count": 8,
     "metadata": {},
     "output_type": "execute_result"
    }
   ],
   "source": [
    "find_kt(U)"
   ]
  }
 ],
 "metadata": {
  "kernelspec": {
   "display_name": "Python 3 (ipykernel)",
   "language": "python",
   "name": "python3"
  },
  "language_info": {
   "codemirror_mode": {
    "name": "ipython",
    "version": 3
   },
   "file_extension": ".py",
   "mimetype": "text/x-python",
   "name": "python",
   "nbconvert_exporter": "python",
   "pygments_lexer": "ipython3",
   "version": "3.9.7"
  }
 },
 "nbformat": 4,
 "nbformat_minor": 5
}
