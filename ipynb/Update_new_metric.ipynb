{
 "cells": [
  {
   "cell_type": "code",
   "execution_count": 7,
   "id": "96787794",
   "metadata": {},
   "outputs": [],
   "source": [
    "import bats\n",
    "import numpy as np\n",
    "import time"
   ]
  },
  {
   "cell_type": "code",
   "execution_count": 4,
   "id": "178246e9",
   "metadata": {},
   "outputs": [],
   "source": [
    "n = 100\n",
    "X = np.random.normal(size=(n,2))"
   ]
  },
  {
   "cell_type": "code",
   "execution_count": 5,
   "id": "9a31fbed",
   "metadata": {},
   "outputs": [
    {
     "data": {
      "text/plain": [
       "<bats.topology.L1Dist at 0x7f8a182267f0>"
      ]
     },
     "execution_count": 5,
     "metadata": {},
     "output_type": "execute_result"
    }
   ],
   "source": [
    "bats.L1Dist()"
   ]
  },
  {
   "cell_type": "code",
   "execution_count": 11,
   "id": "dac846a4",
   "metadata": {},
   "outputs": [],
   "source": [
    "def time_BATS_update_L1(X):\n",
    "    tlist = []\n",
    "    \n",
    "    m1 = bats.Euclidean()\n",
    "    m2 = bats.L1Dist()\n",
    "    \n",
    "    data = bats.DataSet(bats.Matrix(X)) # put into a bats.DataSet\n",
    "    \n",
    "    t0 = time.monotonic()\n",
    "    F_X = bats.RipsFiltration(data, m1, np.inf, 2) # generate a RipsFiltration\n",
    "    R_X = bats.reduce(F_X, bats.F2()) # reduce with F2 coefficients\n",
    "    t1 = time.monotonic()\n",
    "    tlist.append(t1-t0)\n",
    "    #print(\"time to reduce: {} sec.\".format(t1 - t0))\n",
    "    \n",
    "    t0 = time.monotonic()\n",
    "    F_Y = bats.RipsFiltration(data, m2, np.inf, 2) # generate a new RipsFiltration\n",
    "    UI = bats.UpdateInfoFiltration(F_X, F_Y)\n",
    "    R_X.update_filtration_general(UI)\n",
    "    t1 = time.monotonic()\n",
    "    #print(\"time to update: {} sec.\".format(t1 - t0))\n",
    "    tlist.append(t1-t0)\n",
    "    \n",
    "    return tlist\n"
   ]
  },
  {
   "cell_type": "code",
   "execution_count": 12,
   "id": "58342f1a",
   "metadata": {},
   "outputs": [],
   "source": [
    "record = []\n",
    "for i in range(30):\n",
    "    record.append(time_BATS_update_L1(X))"
   ]
  },
  {
   "cell_type": "code",
   "execution_count": 13,
   "id": "b125136a",
   "metadata": {},
   "outputs": [
    {
     "data": {
      "text/plain": [
       "array([0.59278008, 0.37799254])"
      ]
     },
     "execution_count": 13,
     "metadata": {},
     "output_type": "execute_result"
    }
   ],
   "source": [
    "# get mean time\n",
    "record = np.array(record)\n",
    "np.mean(record, axis = 0)"
   ]
  },
  {
   "cell_type": "markdown",
   "id": "ba082770",
   "metadata": {},
   "source": [
    "# Comparison on different packages"
   ]
  },
  {
   "cell_type": "code",
   "execution_count": 22,
   "id": "69299a18",
   "metadata": {},
   "outputs": [
    {
     "ename": "TypeError",
     "evalue": "__init__() got an unexpected keyword argument 'metric'",
     "output_type": "error",
     "traceback": [
      "\u001b[0;31m---------------------------------------------------------------------------\u001b[0m",
      "\u001b[0;31mTypeError\u001b[0m                                 Traceback (most recent call last)",
      "\u001b[0;32m<ipython-input-22-aa28b626ff86>\u001b[0m in \u001b[0;36m<module>\u001b[0;34m\u001b[0m\n\u001b[1;32m      3\u001b[0m \u001b[0;34m\u001b[0m\u001b[0m\n\u001b[1;32m      4\u001b[0m \u001b[0mt0\u001b[0m \u001b[0;34m=\u001b[0m \u001b[0mtime\u001b[0m\u001b[0;34m.\u001b[0m\u001b[0mmonotonic\u001b[0m\u001b[0;34m(\u001b[0m\u001b[0;34m)\u001b[0m\u001b[0;34m\u001b[0m\u001b[0;34m\u001b[0m\u001b[0m\n\u001b[0;32m----> 5\u001b[0;31m \u001b[0mrips\u001b[0m \u001b[0;34m=\u001b[0m \u001b[0mRips\u001b[0m\u001b[0;34m(\u001b[0m\u001b[0mmaxdim\u001b[0m\u001b[0;34m=\u001b[0m\u001b[0;36m2\u001b[0m\u001b[0;34m,\u001b[0m \u001b[0mmetric\u001b[0m \u001b[0;34m=\u001b[0m \u001b[0;34m'cosine'\u001b[0m\u001b[0;34m)\u001b[0m\u001b[0;34m\u001b[0m\u001b[0;34m\u001b[0m\u001b[0m\n\u001b[0m\u001b[1;32m      6\u001b[0m \u001b[0mdiagrams\u001b[0m \u001b[0;34m=\u001b[0m \u001b[0mrips\u001b[0m\u001b[0;34m.\u001b[0m\u001b[0mfit_transform\u001b[0m\u001b[0;34m(\u001b[0m\u001b[0mX\u001b[0m\u001b[0;34m)\u001b[0m\u001b[0;34m\u001b[0m\u001b[0;34m\u001b[0m\u001b[0m\n\u001b[1;32m      7\u001b[0m \u001b[0mt1\u001b[0m \u001b[0;34m=\u001b[0m \u001b[0mtime\u001b[0m\u001b[0;34m.\u001b[0m\u001b[0mmonotonic\u001b[0m\u001b[0;34m(\u001b[0m\u001b[0;34m)\u001b[0m\u001b[0;34m\u001b[0m\u001b[0;34m\u001b[0m\u001b[0m\n",
      "\u001b[0;31mTypeError\u001b[0m: __init__() got an unexpected keyword argument 'metric'"
     ]
    }
   ],
   "source": [
    "import numpy as np\n",
    "from ripser import Rips\n",
    "\n",
    "t0 = time.monotonic()\n",
    "rips = Rips(maxdim=2, metric = 'cosine')\n",
    "diagrams = rips.fit_transform(X)\n",
    "t1 = time.monotonic()\n",
    "print(\"time to compute: {} sec.\".format(t1 - t0))"
   ]
  },
  {
   "cell_type": "code",
   "execution_count": 24,
   "id": "413a48fa",
   "metadata": {},
   "outputs": [],
   "source": [
    "from ripser import ripser\n",
    "\n",
    "dgms = ripser(X)['dgms']"
   ]
  },
  {
   "cell_type": "code",
   "execution_count": 26,
   "id": "96da25a7",
   "metadata": {},
   "outputs": [
    {
     "ename": "AttributeError",
     "evalue": "'list' object has no attribute 'type'",
     "output_type": "error",
     "traceback": [
      "\u001b[0;31m---------------------------------------------------------------------------\u001b[0m",
      "\u001b[0;31mAttributeError\u001b[0m                            Traceback (most recent call last)",
      "\u001b[0;32m<ipython-input-26-d0ee0ee74144>\u001b[0m in \u001b[0;36m<module>\u001b[0;34m\u001b[0m\n\u001b[0;32m----> 1\u001b[0;31m \u001b[0mdgms\u001b[0m\u001b[0;34m.\u001b[0m\u001b[0mtype\u001b[0m\u001b[0;34m\u001b[0m\u001b[0;34m\u001b[0m\u001b[0m\n\u001b[0m",
      "\u001b[0;31mAttributeError\u001b[0m: 'list' object has no attribute 'type'"
     ]
    }
   ],
   "source": [
    "dgms.type"
   ]
  },
  {
   "cell_type": "code",
   "execution_count": 20,
   "id": "769c1893",
   "metadata": {},
   "outputs": [
    {
     "name": "stdout",
     "output_type": "stream",
     "text": [
      "compute1: 0.11691536299986183 sec.\n"
     ]
    }
   ],
   "source": [
    "import gudhi as gd\n",
    "t0 = time.monotonic()\n",
    "rips_complex = gd.RipsComplex(points=X, max_edge_length=np.inf)\n",
    "simplex_tree = rips_complex.create_simplex_tree(max_dimension=2)\n",
    "diag = simplex_tree.persistence()\n",
    "t1 = time.monotonic()\n",
    "print(\"compute1: {} sec.\".format(t1 - t0))"
   ]
  },
  {
   "cell_type": "code",
   "execution_count": 21,
   "id": "0ac15221",
   "metadata": {},
   "outputs": [
    {
     "name": "stdout",
     "output_type": "stream",
     "text": [
      "compute1: 0.6973471460000837 sec.\n"
     ]
    }
   ],
   "source": [
    "t0 = time.monotonic()\n",
    "m1 = bats.Euclidean()\n",
    "data = bats.DataSet(bats.Matrix(X)) # put into a bats.DataSet\n",
    "F_X = bats.RipsFiltration(data, m1, np.inf, 2) # generate a RipsFiltration\n",
    "R_X = bats.reduce(F_X, bats.F2()) # reduce with F2 coefficients\n",
    "t1 = time.monotonic()\n",
    "print(\"compute1: {} sec.\".format(t1 - t0))"
   ]
  },
  {
   "cell_type": "code",
   "execution_count": null,
   "id": "b516c503",
   "metadata": {},
   "outputs": [],
   "source": []
  }
 ],
 "metadata": {
  "kernelspec": {
   "display_name": "Python [conda env:bats] *",
   "language": "python",
   "name": "conda-env-bats-py"
  },
  "language_info": {
   "codemirror_mode": {
    "name": "ipython",
    "version": 3
   },
   "file_extension": ".py",
   "mimetype": "text/x-python",
   "name": "python",
   "nbconvert_exporter": "python",
   "pygments_lexer": "ipython3",
   "version": "3.7.10"
  }
 },
 "nbformat": 4,
 "nbformat_minor": 5
}
