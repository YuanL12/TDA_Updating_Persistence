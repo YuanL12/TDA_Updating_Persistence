{
 "cells": [
  {
   "cell_type": "code",
   "execution_count": 1,
   "id": "66eb882a",
   "metadata": {},
   "outputs": [],
   "source": [
    "import numpy as np\n",
    "import matplotlib.pyplot as plt\n",
    "import bats\n",
    "import time\n",
    "import hera_tda as hera"
   ]
  },
  {
   "cell_type": "code",
   "execution_count": 2,
   "id": "baa26d23",
   "metadata": {},
   "outputs": [],
   "source": [
    "def barcodes_identical(ps0, ps1):\n",
    "    ident = True\n",
    "    for p, q in zip(ps0, ps1):\n",
    "        ident = ident and\\\n",
    "        p.dim() == q.dim() and\\\n",
    "        p.birth() == q.birth() and\\\n",
    "        p.death() == q.death() and\\\n",
    "        p.birth_ind() == q.birth_ind() and\\\n",
    "        p.death_ind() == q.death_ind()\n",
    "        \n",
    "    return ident\n",
    "\n",
    "def bottleneck_max(ps0, ps1, dmax=1):\n",
    "    dist = 0\n",
    "    for dim in range(dmax+1):\n",
    "        ps0a = [p for p in ps0 if p.dim() == dim and p.length() > 0]\n",
    "        ps1a = [p for p in ps1 if p.dim() == dim and p.length() > 0]\n",
    "        dist += hera.BottleneckDistance(ps0a, ps1a)[0]\n",
    "        \n",
    "    return dist\n",
    "\n",
    "\n",
    "def normalized_kt(U, X):\n",
    "    \"\"\"\n",
    "    Compute normalized kendall-tau distance given update information U and starting filtration X\n",
    "    \"\"\"\n",
    "    k = 0\n",
    "    maxk = 0\n",
    "    for d in range(X.maxdim() + 1):\n",
    "        nd = X.ncells(d)\n",
    "        maxk += (nd * (nd - 1)) // 2\n",
    "        k += U.kendall_tau_dists[d]\n",
    "        \n",
    "    return k / maxk"
   ]
  },
  {
   "cell_type": "code",
   "execution_count": 3,
   "id": "010d6282",
   "metadata": {},
   "outputs": [
    {
     "data": {
      "image/png": "[encoded data removed]",
      "text/plain": [
       "<Figure size 432x288 with 1 Axes>"
      ]
     },
     "metadata": {
      "needs_background": "light"
     },
     "output_type": "display_data"
    }
   ],
   "source": [
    "def gen_fig_8(n, r=1.0, sigma=0.1):\n",
    "    X = np.random.randn(n,2)\n",
    "    X = r * X / np.linalg.norm(X, axis=1).reshape(-1,1)\n",
    "    X += sigma*np.random.randn(n, 2) + np.random.choice([-1/np.sqrt(2),1/np.sqrt(2)], size=(n,1))\n",
    "    return X\n",
    "\n",
    "np.random.seed(0)\n",
    "n = 200\n",
    "X = gen_fig_8(n)\n",
    "noise = np.random.normal(size=X.shape)\n",
    "\n",
    "plt.scatter(X[:,0], X[:,1])\n",
    "plt.show()"
   ]
  },
  {
   "cell_type": "code",
   "execution_count": 4,
   "id": "141bfd82",
   "metadata": {},
   "outputs": [
    {
     "name": "stdout",
     "output_type": "stream",
     "text": [
      "0.4518757089972496\n",
      "0.41642790799960494\n"
     ]
    }
   ],
   "source": [
    "# build filtration\n",
    "r = np.inf\n",
    "Y = X + 0.1*noise\n",
    "t0 = time.monotonic()\n",
    "R0 = bats.LightRipsFiltration(bats.DataSet(bats.Matrix(X)), bats.Euclidean(), r, 2)\n",
    "t1 = time.monotonic()\n",
    "print(t1 - t0)\n",
    "\n",
    "t0 = time.monotonic()\n",
    "R1 = bats.LightRipsFiltration(bats.DataSet(bats.Matrix(Y)), bats.Euclidean(), r, 2)\n",
    "t1 = time.monotonic()\n",
    "print(t1 - t0)"
   ]
  },
  {
   "cell_type": "code",
   "execution_count": 5,
   "id": "99c0fd1d",
   "metadata": {},
   "outputs": [
    {
     "name": "stdout",
     "output_type": "stream",
     "text": [
      "R0: 5.24 sec.\n",
      "R1: 4.84 sec.\n",
      "find UpdatInfo: 0.36 sec.\n",
      "update: 0.85 sec.\n",
      "bottleneck dist = 0.0\n"
     ]
    }
   ],
   "source": [
    "degree = -1\n",
    "t0 = time.monotonic()\n",
    "DG0 = bats.FilteredF2DGVectorSpace(R0, degree)\n",
    "RC0 = bats.ReducedFilteredF2DGVectorSpace(DG0, bats.standard_reduction_flag(), bats.clearing_flag(), bats.compute_basis_flag())\n",
    "t1 = time.monotonic()\n",
    "print(\"R0: {:.2f} sec.\".format(t1 - t0))\n",
    "\n",
    "t0 = time.monotonic()\n",
    "DG1 = bats.FilteredF2DGVectorSpace(R1, degree)\n",
    "RC1 = bats.ReducedFilteredF2DGVectorSpace(DG1, bats.standard_reduction_flag(), bats.clearing_flag(), bats.compute_basis_flag())\n",
    "t1 = time.monotonic()\n",
    "print(\"R1: {:.2f} sec.\".format(t1 - t0))\n",
    "\n",
    "t0 = time.monotonic()\n",
    "U = bats.UpdateInfo2(R0, R1)\n",
    "t1 = time.monotonic()\n",
    "print(\"find UpdatInfo: {:.2f} sec.\".format(t1 - t0))\n",
    "\n",
    "t0 = time.monotonic()\n",
    "RC0.update(U)\n",
    "t1 = time.monotonic()\n",
    "print(\"update: {:.2f} sec.\".format(t1 - t0))\n",
    "\n",
    "ps0 = RC0.persistence_pairs(0) + RC0.persistence_pairs(1)\n",
    "ps1 = RC1.persistence_pairs(0) + RC1.persistence_pairs(1)\n",
    "\n",
    "print(\"bottleneck dist =\", bottleneck_max(ps0, ps1))"
   ]
  },
  {
   "cell_type": "code",
   "execution_count": 6,
   "id": "1f79d18c",
   "metadata": {},
   "outputs": [
    {
     "name": "stdout",
     "output_type": "stream",
     "text": [
      "R0: 1.22 sec.\n",
      "R1: 1.20 sec.\n",
      "find UpdatInfo: 0.36 sec.\n",
      "update: 0.23 sec.\n",
      "bottleneck dist = 0.0\n"
     ]
    }
   ],
   "source": [
    "degree = +1\n",
    "t0 = time.monotonic()\n",
    "DG0 = bats.FilteredF2DGVectorSpace(R0, degree)\n",
    "RC0 = bats.ReducedFilteredF2DGVectorSpace(DG0, bats.standard_reduction_flag(), bats.clearing_flag(), bats.compute_basis_flag())\n",
    "t1 = time.monotonic()\n",
    "print(\"R0: {:.2f} sec.\".format(t1 - t0))\n",
    "\n",
    "t0 = time.monotonic()\n",
    "DG1 = bats.FilteredF2DGVectorSpace(R1, degree)\n",
    "RC1 = bats.ReducedFilteredF2DGVectorSpace(DG1, bats.standard_reduction_flag(), bats.clearing_flag(), bats.compute_basis_flag())\n",
    "t1 = time.monotonic()\n",
    "print(\"R1: {:.2f} sec.\".format(t1 - t0))\n",
    "\n",
    "t0 = time.monotonic()\n",
    "U = bats.UpdateInfo2(R0, R1)\n",
    "t1 = time.monotonic()\n",
    "print(\"find UpdatInfo: {:.2f} sec.\".format(t1 - t0))\n",
    "\n",
    "t0 = time.monotonic()\n",
    "RC0.update(U)\n",
    "t1 = time.monotonic()\n",
    "print(\"update: {:.2f} sec.\".format(t1 - t0))\n",
    "\n",
    "ps0 = RC0.persistence_pairs(0) + RC0.persistence_pairs(1)\n",
    "ps1 = RC1.persistence_pairs(0) + RC1.persistence_pairs(1)\n",
    "\n",
    "print(\"bottleneck dist =\", bottleneck_max(ps0, ps1))"
   ]
  },
  {
   "cell_type": "code",
   "execution_count": 7,
   "id": "817f7fcd",
   "metadata": {},
   "outputs": [
    {
     "name": "stdout",
     "output_type": "stream",
     "text": [
      "R0: 0.85 sec.\n",
      "R1: 0.87 sec.\n",
      "find UpdatInfo: 2.52 sec.\n",
      "update: 0.57 sec.\n",
      "bottleneck dist = 0.0\n"
     ]
    }
   ],
   "source": [
    "def get_update_filt(F0, F1):\n",
    "    X0 = F0.complex()\n",
    "    X1 = F1.complex()\n",
    "    \n",
    "    newvals = []\n",
    "    for d in range(F0.maxdim() + 1):\n",
    "        newvals.append(list())\n",
    "        vals1 = F1.vals(d)\n",
    "        for s in X0.get_simplices(d):\n",
    "            s1 = X1.find_idx(s)\n",
    "            newvals[d].append(vals1[s1])\n",
    "            \n",
    "    return newvals\n",
    "\n",
    "degree = +1\n",
    "t0 = time.monotonic()\n",
    "DG0 = bats.FilteredF2DGVectorSpace(R0, degree)\n",
    "RC0 = bats.ReducedFilteredF2DGVectorSpace(DG0, bats.standard_reduction_flag(), bats.clearing_flag(), bats.compute_basis_flag())\n",
    "t1 = time.monotonic()\n",
    "print(\"R0: {:.2f} sec.\".format(t1 - t0))\n",
    "\n",
    "t0 = time.monotonic()\n",
    "DG1 = bats.FilteredF2DGVectorSpace(R1, degree)\n",
    "RC1 = bats.ReducedFilteredF2DGVectorSpace(DG1, bats.standard_reduction_flag(), bats.clearing_flag(), bats.compute_basis_flag())\n",
    "t1 = time.monotonic()\n",
    "print(\"R1: {:.2f} sec.\".format(t1 - t0))\n",
    "\n",
    "t0 = time.monotonic()\n",
    "newvals = get_update_filt(R0, R1)\n",
    "# U = bats.UpdateInfo2(R0, R1)\n",
    "t1 = time.monotonic()\n",
    "print(\"find UpdatInfo: {:.2f} sec.\".format(t1 - t0))\n",
    "\n",
    "t0 = time.monotonic()\n",
    "# RC0.update(U)\n",
    "RC0.update_filtration(newvals)\n",
    "t1 = time.monotonic()\n",
    "print(\"update: {:.2f} sec.\".format(t1 - t0))\n",
    "\n",
    "ps0 = RC0.persistence_pairs(0) + RC0.persistence_pairs(1)\n",
    "ps1 = RC1.persistence_pairs(0) + RC1.persistence_pairs(1)\n",
    "\n",
    "print(\"bottleneck dist =\", bottleneck_max(ps0, ps1))"
   ]
  },
  {
   "cell_type": "markdown",
   "id": "bea0541e",
   "metadata": {},
   "source": [
    "Cohomology+clearing works very well on full Rips filtration (inf radius) as claimed in papers. However update on cohomology is twice slower."
   ]
  },
  {
   "cell_type": "code",
   "execution_count": 8,
   "id": "2b489839",
   "metadata": {},
   "outputs": [],
   "source": [
    "def find_kt(U):\n",
    "    kts = []\n",
    "    for p in U.perm:\n",
    "        kts.append(bats.kendall_tau(p))\n",
    "    return sum(kts)"
   ]
  },
  {
   "cell_type": "code",
   "execution_count": 9,
   "id": "90531145",
   "metadata": {},
   "outputs": [
    {
     "data": {
      "text/plain": [
       "46901189521"
      ]
     },
     "execution_count": 9,
     "metadata": {},
     "output_type": "execute_result"
    }
   ],
   "source": [
    "find_kt(U)"
   ]
  },
  {
   "cell_type": "code",
   "execution_count": 10,
   "id": "92fa0ddd",
   "metadata": {},
   "outputs": [],
   "source": [
    "def compare_time_kt(X, Y, degree = -1):\n",
    "    # somehow homology update is faster \n",
    "    r = np.inf\n",
    "    R0 = bats.LightRipsFiltration(bats.DataSet(bats.Matrix(X)), bats.Euclidean(), r, 2)\n",
    "    R1 = bats.LightRipsFiltration(bats.DataSet(bats.Matrix(Y)), bats.Euclidean(), r, 2)\n",
    "    \n",
    "    t0 = time.monotonic()\n",
    "    DG0 = bats.FilteredF2DGVectorSpace(R0, degree)\n",
    "    RC0 = bats.ReducedFilteredF2DGVectorSpace(DG0, bats.standard_reduction_flag(), bats.clearing_flag(), bats.compute_basis_flag())\n",
    "    t1 = time.monotonic()\n",
    "    print(\"R0: {:.2f} sec.\".format(t1 - t0))\n",
    "\n",
    "    t0 = time.monotonic()\n",
    "    DG1 = bats.FilteredF2DGVectorSpace(R1, degree)\n",
    "    RC1 = bats.ReducedFilteredF2DGVectorSpace(DG1, bats.standard_reduction_flag(), bats.clearing_flag(), bats.compute_basis_flag())\n",
    "    t1 = time.monotonic()\n",
    "    print(\"R1: {:.2f} sec.\".format(t1 - t0))\n",
    "\n",
    "    t0 = time.monotonic()\n",
    "    U = bats.UpdateInfo2(R0, R1)\n",
    "    t1 = time.monotonic()\n",
    "    print(\"find UpdatInfo: {:.2f} sec.\".format(t1 - t0))\n",
    "    kts = find_kt(U)\n",
    "\n",
    "    t0 = time.monotonic()\n",
    "    RC0.update(U)\n",
    "    t1 = time.monotonic()\n",
    "    print(\"update: {:.2f} sec.\".format(t1 - t0))\n",
    "    upd_time = t1 - t0\n",
    "    \n",
    "    return upd_time, kts\n"
   ]
  },
  {
   "cell_type": "code",
   "execution_count": 18,
   "id": "92f4fcd1",
   "metadata": {
    "scrolled": true
   },
   "outputs": [
    {
     "name": "stdout",
     "output_type": "stream",
     "text": [
      "R0: 5.07 sec.\n",
      "R1: 4.86 sec.\n",
      "find UpdatInfo: 0.35 sec.\n",
      "update: 0.58 sec.\n",
      "R0: 5.10 sec.\n",
      "R1: 4.72 sec.\n",
      "find UpdatInfo: 0.33 sec.\n",
      "update: 0.64 sec.\n",
      "R0: 4.70 sec.\n",
      "R1: 5.30 sec.\n",
      "find UpdatInfo: 0.33 sec.\n",
      "update: 0.66 sec.\n",
      "R0: 4.90 sec.\n",
      "R1: 4.64 sec.\n",
      "find UpdatInfo: 0.34 sec.\n",
      "update: 0.74 sec.\n",
      "R0: 4.77 sec.\n",
      "R1: 4.11 sec.\n",
      "find UpdatInfo: 0.37 sec.\n",
      "update: 0.75 sec.\n",
      "R0: 4.78 sec.\n",
      "R1: 4.77 sec.\n",
      "find UpdatInfo: 0.33 sec.\n",
      "update: 0.81 sec.\n",
      "R0: 4.95 sec.\n",
      "R1: 6.77 sec.\n",
      "find UpdatInfo: 0.42 sec.\n",
      "update: 1.61 sec.\n",
      "R0: 5.10 sec.\n",
      "R1: 7.41 sec.\n",
      "find UpdatInfo: 0.40 sec.\n",
      "update: 3.29 sec.\n",
      "R0: 4.98 sec.\n",
      "R1: 9.44 sec.\n",
      "find UpdatInfo: 0.42 sec.\n",
      "update: 7.72 sec.\n",
      "R0: 4.99 sec.\n",
      "R1: 4.71 sec.\n",
      "find UpdatInfo: 0.43 sec.\n",
      "update: 3.47 sec.\n",
      "R0: 4.58 sec.\n",
      "R1: 4.47 sec.\n",
      "find UpdatInfo: 0.34 sec.\n",
      "update: 0.53 sec.\n",
      "R0: 4.92 sec.\n",
      "R1: 4.54 sec.\n",
      "find UpdatInfo: 0.33 sec.\n",
      "update: 0.73 sec.\n",
      "R0: 5.21 sec.\n",
      "R1: 5.33 sec.\n",
      "find UpdatInfo: 0.39 sec.\n",
      "update: 0.78 sec.\n",
      "R0: 4.88 sec.\n",
      "R1: 4.92 sec.\n",
      "find UpdatInfo: 0.35 sec.\n",
      "update: 0.74 sec.\n",
      "R0: 4.99 sec.\n",
      "R1: 4.71 sec.\n",
      "find UpdatInfo: 0.36 sec.\n",
      "update: 0.93 sec.\n",
      "R0: 4.87 sec.\n",
      "R1: 4.58 sec.\n",
      "find UpdatInfo: 0.35 sec.\n",
      "update: 0.87 sec.\n",
      "R0: 5.05 sec.\n",
      "R1: 6.30 sec.\n",
      "find UpdatInfo: 0.40 sec.\n",
      "update: 1.38 sec.\n",
      "R0: 5.30 sec.\n",
      "R1: 8.94 sec.\n",
      "find UpdatInfo: 0.61 sec.\n",
      "update: 3.71 sec.\n",
      "R0: 5.39 sec.\n",
      "R1: 5.77 sec.\n",
      "find UpdatInfo: 0.59 sec.\n",
      "update: 6.22 sec.\n",
      "R0: 5.24 sec.\n",
      "R1: 7.67 sec.\n",
      "find UpdatInfo: 0.48 sec.\n",
      "update: 8.00 sec.\n",
      "R0: 4.82 sec.\n",
      "R1: 4.42 sec.\n",
      "find UpdatInfo: 0.35 sec.\n",
      "update: 0.63 sec.\n",
      "R0: 4.84 sec.\n",
      "R1: 4.34 sec.\n",
      "find UpdatInfo: 0.33 sec.\n",
      "update: 0.77 sec.\n",
      "R0: 4.54 sec.\n",
      "R1: 4.57 sec.\n",
      "find UpdatInfo: 0.36 sec.\n",
      "update: 0.72 sec.\n",
      "R0: 4.69 sec.\n",
      "R1: 3.71 sec.\n",
      "find UpdatInfo: 0.29 sec.\n",
      "update: 0.78 sec.\n",
      "R0: 4.57 sec.\n",
      "R1: 3.98 sec.\n",
      "find UpdatInfo: 0.32 sec.\n",
      "update: 0.85 sec.\n",
      "R0: 4.64 sec.\n",
      "R1: 4.24 sec.\n",
      "find UpdatInfo: 0.30 sec.\n",
      "update: 0.77 sec.\n",
      "R0: 4.67 sec.\n",
      "R1: 7.45 sec.\n",
      "find UpdatInfo: 0.37 sec.\n",
      "update: 1.90 sec.\n",
      "R0: 4.60 sec.\n",
      "R1: 7.85 sec.\n",
      "find UpdatInfo: 0.34 sec.\n",
      "update: 2.92 sec.\n",
      "R0: 4.54 sec.\n",
      "R1: 5.37 sec.\n",
      "find UpdatInfo: 0.32 sec.\n",
      "update: 5.42 sec.\n",
      "R0: 4.60 sec.\n",
      "R1: 6.31 sec.\n",
      "find UpdatInfo: 0.34 sec.\n",
      "update: 9.75 sec.\n",
      "R0: 4.60 sec.\n",
      "R1: 4.16 sec.\n",
      "find UpdatInfo: 0.32 sec.\n",
      "update: 0.57 sec.\n",
      "R0: 4.46 sec.\n",
      "R1: 4.11 sec.\n",
      "find UpdatInfo: 0.34 sec.\n",
      "update: 0.60 sec.\n",
      "R0: 4.47 sec.\n",
      "R1: 4.02 sec.\n",
      "find UpdatInfo: 0.34 sec.\n",
      "update: 0.64 sec.\n",
      "R0: 4.48 sec.\n",
      "R1: 4.17 sec.\n",
      "find UpdatInfo: 0.31 sec.\n",
      "update: 0.72 sec.\n",
      "R0: 4.45 sec.\n",
      "R1: 4.46 sec.\n",
      "find UpdatInfo: 0.33 sec.\n",
      "update: 0.79 sec.\n",
      "R0: 4.56 sec.\n",
      "R1: 4.58 sec.\n",
      "find UpdatInfo: 0.35 sec.\n",
      "update: 0.82 sec.\n",
      "R0: 4.59 sec.\n",
      "R1: 4.50 sec.\n",
      "find UpdatInfo: 0.35 sec.\n",
      "update: 1.72 sec.\n",
      "R0: 4.42 sec.\n",
      "R1: 6.25 sec.\n",
      "find UpdatInfo: 0.38 sec.\n",
      "update: 4.64 sec.\n",
      "R0: 4.46 sec.\n",
      "R1: 5.96 sec.\n",
      "find UpdatInfo: 0.38 sec.\n",
      "update: 5.74 sec.\n",
      "R0: 4.55 sec.\n",
      "R1: 7.24 sec.\n",
      "find UpdatInfo: 0.41 sec.\n",
      "update: 6.25 sec.\n",
      "R0: 4.47 sec.\n",
      "R1: 4.44 sec.\n",
      "find UpdatInfo: 0.29 sec.\n",
      "update: 0.53 sec.\n",
      "R0: 4.38 sec.\n",
      "R1: 4.57 sec.\n",
      "find UpdatInfo: 0.30 sec.\n",
      "update: 0.59 sec.\n",
      "R0: 4.46 sec.\n",
      "R1: 4.31 sec.\n",
      "find UpdatInfo: 0.30 sec.\n",
      "update: 0.66 sec.\n",
      "R0: 4.45 sec.\n",
      "R1: 4.13 sec.\n",
      "find UpdatInfo: 0.32 sec.\n",
      "update: 0.71 sec.\n",
      "R0: 4.51 sec.\n",
      "R1: 3.93 sec.\n",
      "find UpdatInfo: 0.30 sec.\n",
      "update: 0.72 sec.\n",
      "R0: 4.39 sec.\n",
      "R1: 4.60 sec.\n",
      "find UpdatInfo: 0.33 sec.\n",
      "update: 0.88 sec.\n",
      "R0: 4.42 sec.\n",
      "R1: 4.28 sec.\n",
      "find UpdatInfo: 0.33 sec.\n",
      "update: 1.29 sec.\n",
      "R0: 4.40 sec.\n",
      "R1: 6.05 sec.\n",
      "find UpdatInfo: 0.38 sec.\n",
      "update: 2.73 sec.\n",
      "R0: 4.38 sec.\n",
      "R1: 6.66 sec.\n",
      "find UpdatInfo: 0.37 sec.\n",
      "update: 6.68 sec.\n",
      "R0: 4.47 sec.\n",
      "R1: 7.68 sec.\n",
      "find UpdatInfo: 0.38 sec.\n",
      "update: 8.00 sec.\n"
     ]
    }
   ],
   "source": [
    "n_rep = 5\n",
    "kt_list = []\n",
    "up_time = []\n",
    "std_lists = [1e-2, 3e-2, 5e-2, 7e-2, 9e-2, 0.1, 0.2, 0.3, 0.4, 0.5]\n",
    "# std_lists = [0.1, 0.2]\n",
    "for i in range(n_rep):\n",
    "    for std in std_lists:\n",
    "        noise = np.random.normal(scale = std, size=X.shape)\n",
    "        Y = X + noise\n",
    "        t, kts = compare_time_kt(X,Y,-1)\n",
    "        up_time.append(t)\n",
    "        kt_list.append(kts)"
   ]
  },
  {
   "cell_type": "code",
   "execution_count": 19,
   "id": "eead1f8b",
   "metadata": {},
   "outputs": [],
   "source": [
    "rec = [kt_list, up_time]\n",
    "\n",
    "import pandas as pd\n",
    "df = pd.DataFrame(rec)\n",
    "df.to_csv('rec.csv', index=False)"
   ]
  },
  {
   "cell_type": "code",
   "execution_count": 15,
   "id": "5bf48439",
   "metadata": {},
   "outputs": [
    {
     "data": {
      "image/png": "[encoded data removed]",
      "text/plain": [
       "<Figure size 1000x800 with 1 Axes>"
      ]
     },
     "metadata": {
      "needs_background": "light"
     },
     "output_type": "display_data"
    }
   ],
   "source": [
    "import pandas as pd\n",
    "import matplotlib.pyplot as plt\n",
    "import numpy as np\n",
    "df2 = pd.read_csv('rec.csv')\n",
    "a = df2.to_numpy()\n",
    "\n",
    "# plt.xscale('log')\n",
    "# plt.yscale('log')\n",
    "\n",
    "plt.figure(figsize=(5, 4), dpi=200)\n",
    "\n",
    "plt.scatter(a[0], a[1])\n",
    "m, b = np.polyfit(a[0], a[1], 1)\n",
    "x = np.sort(a[0])\n",
    "plt.plot(x, m*x+b, color='grey', linestyle='dashed')\n",
    "plt.xlabel(\"Kendall-tau distance\")\n",
    "plt.ylabel(\"time(sec)\")\n",
    "plt.savefig('rips_perms.pdf', dpi=200, bbox_inches='tight')"
   ]
  },
  {
   "cell_type": "code",
   "execution_count": 4,
   "id": "f8d57c51",
   "metadata": {},
   "outputs": [
    {
     "data": {
      "text/plain": [
       "207211991394.0"
      ]
     },
     "execution_count": 4,
     "metadata": {},
     "output_type": "execute_result"
    }
   ],
   "source": [
    "np.max(a[0])"
   ]
  },
  {
   "cell_type": "code",
   "execution_count": null,
   "id": "80e58334",
   "metadata": {},
   "outputs": [],
   "source": []
  }
 ],
 "metadata": {
  "kernelspec": {
   "display_name": "Python 3 (ipykernel)",
   "language": "python",
   "name": "python3"
  },
  "language_info": {
   "codemirror_mode": {
    "name": "ipython",
    "version": 3
   },
   "file_extension": ".py",
   "mimetype": "text/x-python",
   "name": "python",
   "nbconvert_exporter": "python",
   "pygments_lexer": "ipython3",
   "version": "3.9.7"
  }
 },
 "nbformat": 4,
 "nbformat_minor": 5
}
