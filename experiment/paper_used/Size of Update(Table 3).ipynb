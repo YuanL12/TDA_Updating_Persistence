{
 "cells": [
  {
   "cell_type": "markdown",
   "id": "5fc6f898-8414-496d-befd-28e99b53b0d4",
   "metadata": {},
   "source": [
    "## Sphere 1 and 2"
   ]
  },
  {
   "cell_type": "code",
   "execution_count": 1,
   "id": "703aaf89-790c-4480-892d-6b3a1030fbad",
   "metadata": {},
   "outputs": [],
   "source": [
    "import numpy as np\n",
    "import pandas as pd\n",
    "import bats\n",
    "import scipy.spatial.distance as distance"
   ]
  },
  {
   "cell_type": "code",
   "execution_count": 2,
   "id": "8fb20827-f32f-4945-a0b6-414c7e0ea875",
   "metadata": {},
   "outputs": [],
   "source": [
    "# generate circle (unnoisy)\n",
    "def gen_circle(n = 50, d = 2):\n",
    "    X = np.random.normal(size=(n,d))\n",
    "    # X = np.random.uniform(-1,1,(n,2))\n",
    "    X = X / np.linalg.norm(X, axis=1).reshape(-1,1)\n",
    "    # std = 0.1\n",
    "    # Y = Y + np.random.normal(size=(n,2), scale = 0.1 )\n",
    "    return X\n",
    "\n",
    "n = 200\n",
    "d = 2\n",
    "sigma = 0.001\n",
    "# create dataset\n",
    "X = gen_circle(n, d) # unnoisy circle\n",
    "Y = X + np.random.normal(size=(n,d), scale = sigma )"
   ]
  },
  {
   "cell_type": "code",
   "execution_count": 3,
   "id": "6ae7e58c-6cad-4cc3-8caa-29d477c74872",
   "metadata": {},
   "outputs": [],
   "source": [
    "dmax = 2 # max dimension of filtration, i.e., compute up to H_{d_max-1}\n",
    "def build_filt_find_update_info(X, Y, dmax):\n",
    "    # build filtration\n",
    "    DX = distance.squareform(distance.pdist(X))\n",
    "    rX = bats.enclosing_radius(bats.Matrix(DX))\n",
    "    R0 = bats.LightRipsFiltration(bats.Matrix(DX), rX, dmax)\n",
    "\n",
    "    # build filtration\n",
    "    DY = distance.squareform(distance.pdist(Y))\n",
    "    rY = bats.enclosing_radius(bats.Matrix(DY))\n",
    "    R1 = bats.LightRipsFiltration(bats.Matrix(DY), rY, dmax)\n",
    "\n",
    "    U = bats.UpdateInfo2(R0, R1)\n",
    "    return R0, U"
   ]
  },
  {
   "cell_type": "code",
   "execution_count": 4,
   "id": "d48ead48-cfa7-41ce-b3a6-686aa3b765c7",
   "metadata": {},
   "outputs": [
    {
     "data": {
      "text/plain": [
       "(0.004725804682776271, 0.0016843002871447204, 0.03188453674012223)"
      ]
     },
     "execution_count": 4,
     "metadata": {},
     "output_type": "execute_result"
    }
   ],
   "source": [
    "def update_scale(U,X):\n",
    "    '''\n",
    "    Compute\n",
    "    (1) normalized kendall-tau distance \n",
    "    (2) number simplices added divided by original number of simplices \n",
    "    (3) number simplices deleted divided by the original number of simplices.\n",
    "    '''\n",
    "    \n",
    "    k = 0\n",
    "    maxk = 0\n",
    "    total_ncells = 0\n",
    "    nadditions = 0\n",
    "    for d in range(X.maxdim() + 1):\n",
    "        nd = X.ncells(d)\n",
    "        maxk += (nd * (nd - 1)) // 2\n",
    "        k += bats.kendall_tau(U.perm[d])\n",
    "        total_ncells += nd\n",
    "        nadditions += len(U.insertion_cols[d])\n",
    "        \n",
    "    return k / maxk,  nadditions/total_ncells, sum(U.ndeletions)/total_ncells\n",
    "\n",
    "R0, U = build_filt_find_update_info(X,Y, dmax =2)\n",
    "update_scale(U, R0)"
   ]
  },
  {
   "cell_type": "code",
   "execution_count": 5,
   "id": "bb4ba622-bcb6-498a-b27a-ed8689944cd6",
   "metadata": {},
   "outputs": [
    {
     "data": {
      "text/plain": [
       "(0.004448693654552695, 0.0009444554916117498, 0.012261239976302568)"
      ]
     },
     "execution_count": 5,
     "metadata": {},
     "output_type": "execute_result"
    }
   ],
   "source": [
    "n = 200\n",
    "d = 3\n",
    "sigma = 0.001\n",
    "# create dataset\n",
    "X = gen_circle(n, d) # unnoisy circle\n",
    "Y = X + np.random.normal(size=(n,d), scale = sigma )\n",
    "\n",
    "R0, U = build_filt_find_update_info(X,Y, dmax =3)\n",
    "update_scale(U, R0)"
   ]
  },
  {
   "cell_type": "markdown",
   "id": "a4db4318-dd89-47f6-ae39-dc4e28fde0b5",
   "metadata": {},
   "source": [
    "## Klein3"
   ]
  },
  {
   "cell_type": "code",
   "execution_count": 13,
   "id": "d1cb58a2-7892-46cb-89b0-a2c788b7386b",
   "metadata": {},
   "outputs": [],
   "source": [
    "dmax_complex = 3 # maximum dimension of complex, will compute PH until one dimension lower\n",
    "n_sample = 100 # number of sample points\n",
    "df = pd.read_csv('klein_bottle_pointcloud_new_400.txt', delimiter = \" \", header = None)\n",
    "df = df.iloc[:,:-1] # the last column is NaN, we need it\n",
    "    \n",
    "X = np.array(df) # transform into numpy array\n",
    "# Uniform randomly generate points\n",
    "n_total_rows = X.shape[0]\n",
    "random_indices = np.random.choice(n_total_rows, size=n_sample, replace=False)\n",
    "X = X[random_indices, :]\n",
    "Y = X + np.random.normal(size=(X.shape[0], X.shape[1]), scale = 0.001 )"
   ]
  },
  {
   "cell_type": "code",
   "execution_count": 14,
   "id": "f7930d69-28fe-4926-ae74-09c5fd289086",
   "metadata": {},
   "outputs": [
    {
     "data": {
      "text/plain": [
       "(0.0009638290848562882, 0.0, 0.0)"
      ]
     },
     "execution_count": 14,
     "metadata": {},
     "output_type": "execute_result"
    }
   ],
   "source": [
    "R0, U = build_filt_find_update_info(X, Y, dmax =3)\n",
    "update_scale(U, R0)"
   ]
  },
  {
   "cell_type": "markdown",
   "id": "c48ee8c4-6a9a-42dc-b274-dd3971cd5686",
   "metadata": {},
   "source": [
    "## Dragon"
   ]
  },
  {
   "cell_type": "code",
   "execution_count": 15,
   "id": "17aed56c-ad90-47b1-99b2-6c9a1538df8f",
   "metadata": {},
   "outputs": [
    {
     "data": {
      "text/plain": [
       "(0.022069424134177233, 0.021481652573601368, 0.007133504477299316)"
      ]
     },
     "execution_count": 15,
     "metadata": {},
     "output_type": "execute_result"
    }
   ],
   "source": [
    "n_sample = 400 # number of sample points\n",
    "df = pd.read_csv('dragon_vrip.ply.txt_1000_.txt', delimiter = \" \", header = None)\n",
    "dmax_complex = 2\n",
    "X = np.array(df) # transform into numpy array\n",
    "n_total_rows = X.shape[0]\n",
    "random_indices = np.random.choice(n_total_rows, size=n_sample, replace=False)\n",
    "X = X[random_indices, :]\n",
    "X2 = X + X * 0.01 * np.random.randn(X.shape[0],X.shape[1])\n",
    "\n",
    "R0, U = build_filt_find_update_info(X, X2, dmax =dmax_complex)\n",
    "update_scale(U, R0)"
   ]
  },
  {
   "cell_type": "markdown",
   "id": "60d1551f-8216-4202-82b5-941fdf907e23",
   "metadata": {},
   "source": [
    "## Bunny"
   ]
  },
  {
   "cell_type": "code",
   "execution_count": 17,
   "id": "6931fbd3-29d6-49fb-a14b-2f09284b619b",
   "metadata": {},
   "outputs": [],
   "source": [
    "from plyfile import PlyData\n",
    "def read_ply_to_numpy_arr(file_path):\n",
    "\n",
    "    plydata = PlyData.read(file_path) # read file\n",
    "    data = plydata.elements[0].data # read data\n",
    "    data_pd = pd.DataFrame(data) # Convert to DataFrame, because DataFrame can parse structured data\n",
    "    data_np = np.zeros(data_pd.shape, dtype=np.float32) # Initialize the array of stored data\n",
    "    property_names = data[0].dtype.names # read the name of the property\n",
    "    for i, name in enumerate(property_names): # Read data according to property, so as to ensure that the data read is the same data type.\n",
    "        data_np[:, i] = data_pd[name]\n",
    "\n",
    "    return data_np[:,:3] # only use the first 3 columns"
   ]
  },
  {
   "cell_type": "code",
   "execution_count": 20,
   "id": "ebeb28f5-bca1-4cd3-9a3e-384607af919d",
   "metadata": {},
   "outputs": [
    {
     "data": {
      "text/plain": [
       "(0.014960165865476565, 0.0009324730703427441, 0.017011479265594272)"
      ]
     },
     "execution_count": 20,
     "metadata": {},
     "output_type": "execute_result"
    }
   ],
   "source": [
    "n_sample = 400 # number of sample points \n",
    "full_X = read_ply_to_numpy_arr('bun000.ply')\n",
    "n_total_rows = full_X.shape[0]\n",
    "random_indices = np.random.choice(n_total_rows, size=n_sample, replace=False)\n",
    "X = full_X[random_indices, :]\n",
    "X2 = X + X * 0.01 * np.random.randn(X.shape[0],X.shape[1])\n",
    "\n",
    "dmax_complex = 2\n",
    "R0, U = build_filt_find_update_info(X, X2, dmax =dmax_complex)\n",
    "update_scale(U, R0)"
   ]
  },
  {
   "cell_type": "markdown",
   "id": "23e922ea-32d5-4eb5-8440-807b644107a1",
   "metadata": {},
   "source": [
    "## H3N2"
   ]
  },
  {
   "cell_type": "code",
   "execution_count": 21,
   "id": "94f2beb5-92e2-466d-9596-5e32189b0891",
   "metadata": {},
   "outputs": [
    {
     "data": {
      "text/plain": [
       "(0.0058003253789867286, 0.0002797367140582588, 0.0007457346187348404)"
      ]
     },
     "execution_count": 21,
     "metadata": {},
     "output_type": "execute_result"
    }
   ],
   "source": [
    "dmax_complex = 2 # maximum dimension of complex, will compute PH until one dimension lower\n",
    "n_sample = 400 # number of sample points\n",
    "# create dataset\n",
    "df = pd.read_csv('H3N2.all.nt.concat.fa_hdm.txt_point_cloud.txt', delimiter = \" \", header = None)\n",
    "df = df.iloc[:,:-1] # the last column is NaN\n",
    "    \n",
    "X = np.array(df) # transform into numpy array\n",
    "# Uniform randomly generate points\n",
    "n_total_rows = X.shape[0]\n",
    "random_indices = np.random.choice(n_total_rows, size=n_sample, replace=False)\n",
    "X = X[random_indices, :]\n",
    "X2 = X + X * 0.01 * np.random.randn(X.shape[0],X.shape[1])\n",
    "\n",
    "R0, U = build_filt_find_update_info(X, X2, dmax =dmax_complex)\n",
    "update_scale(U, R0)"
   ]
  },
  {
   "cell_type": "code",
   "execution_count": null,
   "id": "f2cb467a-6d13-47e1-a8cf-90d2224348f6",
   "metadata": {},
   "outputs": [],
   "source": []
  }
 ],
 "metadata": {
  "kernelspec": {
   "display_name": "Python 3.9.7 ('bats')",
   "language": "python",
   "name": "python3"
  },
  "language_info": {
   "codemirror_mode": {
    "name": "ipython",
    "version": 3
   },
   "file_extension": ".py",
   "mimetype": "text/x-python",
   "name": "python",
   "nbconvert_exporter": "python",
   "pygments_lexer": "ipython3",
   "version": "3.9.7"
  },
  "vscode": {
   "interpreter": {
    "hash": "d046be559ae0a6626eb74740e27060a68342e9f6330bb84d38e26ab33ff95788"
   }
  }
 },
 "nbformat": 4,
 "nbformat_minor": 5
}
