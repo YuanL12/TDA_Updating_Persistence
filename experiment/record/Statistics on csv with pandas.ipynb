{
 "cells": [
  {
   "cell_type": "markdown",
   "id": "5f5043e3",
   "metadata": {},
   "source": [
    "## This notebook will do statistics analysis based on our experiment using Pandas"
   ]
  },
  {
   "cell_type": "code",
   "execution_count": 2,
   "id": "deb8d612",
   "metadata": {},
   "outputs": [],
   "source": [
    "import numpy as np\n",
    "import matplotlib.pyplot as plt\n",
    "import pandas as pd"
   ]
  },
  {
   "cell_type": "markdown",
   "id": "0d1ee650",
   "metadata": {},
   "source": [
    "## Noisy circle with different sizes"
   ]
  },
  {
   "cell_type": "code",
   "execution_count": 3,
   "id": "f0324f1b",
   "metadata": {},
   "outputs": [],
   "source": [
    "df1 = pd.read_csv('noisy_circle_2D_3D_change_std.csv') # not used for now"
   ]
  },
  {
   "cell_type": "code",
   "execution_count": 4,
   "id": "84e0ac97",
   "metadata": {},
   "outputs": [
    {
     "data": {
      "text/html": [
       "<div>\n",
       "<style scoped>\n",
       "    .dataframe tbody tr th:only-of-type {\n",
       "        vertical-align: middle;\n",
       "    }\n",
       "\n",
       "    .dataframe tbody tr th {\n",
       "        vertical-align: top;\n",
       "    }\n",
       "\n",
       "    .dataframe thead th {\n",
       "        text-align: right;\n",
       "    }\n",
       "</style>\n",
       "<table border=\"1\" class=\"dataframe\">\n",
       "  <thead>\n",
       "    <tr style=\"text-align: right;\">\n",
       "      <th></th>\n",
       "      <th>std</th>\n",
       "      <th>n_points</th>\n",
       "      <th>dimension</th>\n",
       "      <th>setup1</th>\n",
       "      <th>construct1</th>\n",
       "      <th>reduce1</th>\n",
       "      <th>setup2</th>\n",
       "      <th>construct2</th>\n",
       "      <th>reduce2</th>\n",
       "      <th>update</th>\n",
       "      <th>reb_total</th>\n",
       "      <th>upd_total</th>\n",
       "      <th>nnz_old_U</th>\n",
       "      <th>nnz_reb_U</th>\n",
       "      <th>nnz_upd_U</th>\n",
       "      <th>nnz_old_R</th>\n",
       "      <th>nnz_reb_R</th>\n",
       "      <th>nnz_upd_R</th>\n",
       "    </tr>\n",
       "  </thead>\n",
       "  <tbody>\n",
       "    <tr>\n",
       "      <th>0</th>\n",
       "      <td>0.001</td>\n",
       "      <td>20</td>\n",
       "      <td>2</td>\n",
       "      <td>0.000084</td>\n",
       "      <td>0.000213</td>\n",
       "      <td>0.000867</td>\n",
       "      <td>0.000059</td>\n",
       "      <td>0.000174</td>\n",
       "      <td>0.000764</td>\n",
       "      <td>0.000491</td>\n",
       "      <td>0.000998</td>\n",
       "      <td>0.000725</td>\n",
       "      <td>5435</td>\n",
       "      <td>5435</td>\n",
       "      <td>5435</td>\n",
       "      <td>462</td>\n",
       "      <td>462</td>\n",
       "      <td>462</td>\n",
       "    </tr>\n",
       "    <tr>\n",
       "      <th>1</th>\n",
       "      <td>0.001</td>\n",
       "      <td>20</td>\n",
       "      <td>2</td>\n",
       "      <td>0.000057</td>\n",
       "      <td>0.000166</td>\n",
       "      <td>0.000611</td>\n",
       "      <td>0.000053</td>\n",
       "      <td>0.000167</td>\n",
       "      <td>0.000603</td>\n",
       "      <td>0.000365</td>\n",
       "      <td>0.000823</td>\n",
       "      <td>0.000586</td>\n",
       "      <td>5435</td>\n",
       "      <td>5435</td>\n",
       "      <td>5435</td>\n",
       "      <td>462</td>\n",
       "      <td>462</td>\n",
       "      <td>462</td>\n",
       "    </tr>\n",
       "    <tr>\n",
       "      <th>2</th>\n",
       "      <td>0.001</td>\n",
       "      <td>20</td>\n",
       "      <td>2</td>\n",
       "      <td>0.000115</td>\n",
       "      <td>0.000165</td>\n",
       "      <td>0.000610</td>\n",
       "      <td>0.000053</td>\n",
       "      <td>0.000165</td>\n",
       "      <td>0.000599</td>\n",
       "      <td>0.000363</td>\n",
       "      <td>0.000817</td>\n",
       "      <td>0.000582</td>\n",
       "      <td>5435</td>\n",
       "      <td>5435</td>\n",
       "      <td>5435</td>\n",
       "      <td>462</td>\n",
       "      <td>462</td>\n",
       "      <td>462</td>\n",
       "    </tr>\n",
       "    <tr>\n",
       "      <th>3</th>\n",
       "      <td>0.001</td>\n",
       "      <td>20</td>\n",
       "      <td>2</td>\n",
       "      <td>0.000059</td>\n",
       "      <td>0.000166</td>\n",
       "      <td>0.000602</td>\n",
       "      <td>0.000052</td>\n",
       "      <td>0.000172</td>\n",
       "      <td>0.000596</td>\n",
       "      <td>0.000366</td>\n",
       "      <td>0.000820</td>\n",
       "      <td>0.000591</td>\n",
       "      <td>5435</td>\n",
       "      <td>5435</td>\n",
       "      <td>5435</td>\n",
       "      <td>462</td>\n",
       "      <td>462</td>\n",
       "      <td>462</td>\n",
       "    </tr>\n",
       "    <tr>\n",
       "      <th>4</th>\n",
       "      <td>0.001</td>\n",
       "      <td>20</td>\n",
       "      <td>2</td>\n",
       "      <td>0.000053</td>\n",
       "      <td>0.000164</td>\n",
       "      <td>0.000607</td>\n",
       "      <td>0.000052</td>\n",
       "      <td>0.000165</td>\n",
       "      <td>0.000592</td>\n",
       "      <td>0.000367</td>\n",
       "      <td>0.000809</td>\n",
       "      <td>0.000585</td>\n",
       "      <td>5435</td>\n",
       "      <td>5435</td>\n",
       "      <td>5435</td>\n",
       "      <td>462</td>\n",
       "      <td>462</td>\n",
       "      <td>462</td>\n",
       "    </tr>\n",
       "  </tbody>\n",
       "</table>\n",
       "</div>"
      ],
      "text/plain": [
       "     std  n_points  dimension    setup1  construct1   reduce1    setup2  \\\n",
       "0  0.001        20          2  0.000084    0.000213  0.000867  0.000059   \n",
       "1  0.001        20          2  0.000057    0.000166  0.000611  0.000053   \n",
       "2  0.001        20          2  0.000115    0.000165  0.000610  0.000053   \n",
       "3  0.001        20          2  0.000059    0.000166  0.000602  0.000052   \n",
       "4  0.001        20          2  0.000053    0.000164  0.000607  0.000052   \n",
       "\n",
       "   construct2   reduce2    update  reb_total  upd_total  nnz_old_U  nnz_reb_U  \\\n",
       "0    0.000174  0.000764  0.000491   0.000998   0.000725       5435       5435   \n",
       "1    0.000167  0.000603  0.000365   0.000823   0.000586       5435       5435   \n",
       "2    0.000165  0.000599  0.000363   0.000817   0.000582       5435       5435   \n",
       "3    0.000172  0.000596  0.000366   0.000820   0.000591       5435       5435   \n",
       "4    0.000165  0.000592  0.000367   0.000809   0.000585       5435       5435   \n",
       "\n",
       "   nnz_upd_U  nnz_old_R  nnz_reb_R  nnz_upd_R  \n",
       "0       5435        462        462        462  \n",
       "1       5435        462        462        462  \n",
       "2       5435        462        462        462  \n",
       "3       5435        462        462        462  \n",
       "4       5435        462        462        462  "
      ]
     },
     "execution_count": 4,
     "metadata": {},
     "output_type": "execute_result"
    }
   ],
   "source": [
    "# sum over several columns and insert the into dataframe\n",
    "df1.insert(loc=10, column='reb_total', value=(df1['setup2'] + df1['construct2'] + df1['reduce2']))\n",
    "df1.insert(loc=11, column='upd_total', value=(df1['setup2'] + df1['construct2'] + df1['update']))\n",
    "df1.head()"
   ]
  },
  {
   "cell_type": "code",
   "execution_count": 5,
   "id": "034bbea1",
   "metadata": {},
   "outputs": [],
   "source": [
    "df1.insert(loc=12, column='nnz_reb', value=(df1['nnz_reb_R'] + df1['nnz_reb_U']))\n",
    "df1.insert(loc=13, column='nnz_upd', value=(df1['nnz_upd_R'] + df1['nnz_upd_U']))"
   ]
  },
  {
   "cell_type": "markdown",
   "id": "9da5e961",
   "metadata": {},
   "source": [
    "### Update metric from Euclidean to Minkowski 1"
   ]
  },
  {
   "cell_type": "code",
   "execution_count": 47,
   "id": "3d70499c",
   "metadata": {},
   "outputs": [
    {
     "data": {
      "text/html": [
       "<div>\n",
       "<style scoped>\n",
       "    .dataframe tbody tr th:only-of-type {\n",
       "        vertical-align: middle;\n",
       "    }\n",
       "\n",
       "    .dataframe tbody tr th {\n",
       "        vertical-align: top;\n",
       "    }\n",
       "\n",
       "    .dataframe thead th {\n",
       "        text-align: right;\n",
       "    }\n",
       "</style>\n",
       "<table border=\"1\" class=\"dataframe\">\n",
       "  <thead>\n",
       "    <tr style=\"text-align: right;\">\n",
       "      <th></th>\n",
       "      <th></th>\n",
       "      <th></th>\n",
       "      <th>setup1</th>\n",
       "      <th>construct1</th>\n",
       "      <th>reduce1</th>\n",
       "      <th>setup2</th>\n",
       "      <th>construct2</th>\n",
       "      <th>reduce2</th>\n",
       "      <th>update</th>\n",
       "      <th>reb_total</th>\n",
       "      <th>upd_total</th>\n",
       "      <th>nnz_old_U</th>\n",
       "      <th>nnz_reb_U</th>\n",
       "      <th>nnz_upd_U</th>\n",
       "      <th>nnz_old_R</th>\n",
       "      <th>nnz_reb_R</th>\n",
       "      <th>nnz_upd_R</th>\n",
       "    </tr>\n",
       "    <tr>\n",
       "      <th>std</th>\n",
       "      <th>n_points</th>\n",
       "      <th>dimension</th>\n",
       "      <th></th>\n",
       "      <th></th>\n",
       "      <th></th>\n",
       "      <th></th>\n",
       "      <th></th>\n",
       "      <th></th>\n",
       "      <th></th>\n",
       "      <th></th>\n",
       "      <th></th>\n",
       "      <th></th>\n",
       "      <th></th>\n",
       "      <th></th>\n",
       "      <th></th>\n",
       "      <th></th>\n",
       "      <th></th>\n",
       "    </tr>\n",
       "  </thead>\n",
       "  <tbody>\n",
       "    <tr>\n",
       "      <th rowspan=\"2\" valign=\"top\">0.005</th>\n",
       "      <th rowspan=\"2\" valign=\"top\">100</th>\n",
       "      <th>2</th>\n",
       "      <td>0.000212</td>\n",
       "      <td>0.030085</td>\n",
       "      <td>0.335823</td>\n",
       "      <td>0.000153</td>\n",
       "      <td>0.019418</td>\n",
       "      <td>0.179191</td>\n",
       "      <td>0.293341</td>\n",
       "      <td>0.198762</td>\n",
       "      <td>0.312912</td>\n",
       "      <td>2477549</td>\n",
       "      <td>1438095</td>\n",
       "      <td>1445668</td>\n",
       "      <td>13879</td>\n",
       "      <td>12057</td>\n",
       "      <td>21532</td>\n",
       "    </tr>\n",
       "    <tr>\n",
       "      <th>3</th>\n",
       "      <td>0.000227</td>\n",
       "      <td>0.972687</td>\n",
       "      <td>23.575383</td>\n",
       "      <td>0.000175</td>\n",
       "      <td>0.544418</td>\n",
       "      <td>6.890051</td>\n",
       "      <td>21.254431</td>\n",
       "      <td>7.434643</td>\n",
       "      <td>21.799024</td>\n",
       "      <td>82999518</td>\n",
       "      <td>30485387</td>\n",
       "      <td>54435336</td>\n",
       "      <td>582066</td>\n",
       "      <td>353571</td>\n",
       "      <td>678444</td>\n",
       "    </tr>\n",
       "  </tbody>\n",
       "</table>\n",
       "</div>"
      ],
      "text/plain": [
       "                            setup1  construct1    reduce1    setup2  \\\n",
       "std   n_points dimension                                              \n",
       "0.005 100      2          0.000212    0.030085   0.335823  0.000153   \n",
       "               3          0.000227    0.972687  23.575383  0.000175   \n",
       "\n",
       "                          construct2   reduce2     update  reb_total  \\\n",
       "std   n_points dimension                                               \n",
       "0.005 100      2            0.019418  0.179191   0.293341   0.198762   \n",
       "               3            0.544418  6.890051  21.254431   7.434643   \n",
       "\n",
       "                          upd_total  nnz_old_U  nnz_reb_U  nnz_upd_U  \\\n",
       "std   n_points dimension                                               \n",
       "0.005 100      2           0.312912    2477549    1438095    1445668   \n",
       "               3          21.799024   82999518   30485387   54435336   \n",
       "\n",
       "                          nnz_old_R  nnz_reb_R  nnz_upd_R  \n",
       "std   n_points dimension                                   \n",
       "0.005 100      2              13879      12057      21532  \n",
       "               3             582066     353571     678444  "
      ]
     },
     "execution_count": 47,
     "metadata": {},
     "output_type": "execute_result"
    }
   ],
   "source": [
    "df2 = pd.read_csv('noisy_circle_update_metric_euc_to_minkow1.csv')\n",
    "# insert columns \n",
    "df2.insert(loc=10, column='reb_total', value=(df2['setup2'] + df2['construct2'] + df2['reduce2']))\n",
    "df2.insert(loc=11, column='upd_total', value=(df2['setup2'] + df2['construct2'] + df2['update']))\n",
    "# group them\n",
    "a = df2.groupby(['std','n_points','dimension']).mean()\n",
    "a"
   ]
  },
  {
   "cell_type": "code",
   "execution_count": 20,
   "id": "339f4e1d",
   "metadata": {},
   "outputs": [
    {
     "data": {
      "text/html": [
       "<div>\n",
       "<style scoped>\n",
       "    .dataframe tbody tr th:only-of-type {\n",
       "        vertical-align: middle;\n",
       "    }\n",
       "\n",
       "    .dataframe tbody tr th {\n",
       "        vertical-align: top;\n",
       "    }\n",
       "\n",
       "    .dataframe thead th {\n",
       "        text-align: right;\n",
       "    }\n",
       "</style>\n",
       "<table border=\"1\" class=\"dataframe\">\n",
       "  <thead>\n",
       "    <tr style=\"text-align: right;\">\n",
       "      <th></th>\n",
       "      <th></th>\n",
       "      <th></th>\n",
       "      <th>reb_total</th>\n",
       "      <th>upd_total</th>\n",
       "    </tr>\n",
       "    <tr>\n",
       "      <th>std</th>\n",
       "      <th>n_points</th>\n",
       "      <th>dimension</th>\n",
       "      <th></th>\n",
       "      <th></th>\n",
       "    </tr>\n",
       "  </thead>\n",
       "  <tbody>\n",
       "    <tr>\n",
       "      <th rowspan=\"2\" valign=\"top\">0.005</th>\n",
       "      <th rowspan=\"2\" valign=\"top\">100</th>\n",
       "      <th>2</th>\n",
       "      <td>0.198762</td>\n",
       "      <td>0.312912</td>\n",
       "    </tr>\n",
       "    <tr>\n",
       "      <th>3</th>\n",
       "      <td>7.434643</td>\n",
       "      <td>21.799024</td>\n",
       "    </tr>\n",
       "  </tbody>\n",
       "</table>\n",
       "</div>"
      ],
      "text/plain": [
       "                          reb_total  upd_total\n",
       "std   n_points dimension                      \n",
       "0.005 100      2           0.198762   0.312912\n",
       "               3           7.434643  21.799024"
      ]
     },
     "execution_count": 20,
     "metadata": {},
     "output_type": "execute_result"
    }
   ],
   "source": [
    "# dataframe also provides \n",
    "a[['reb_total', 'upd_total']]"
   ]
  },
  {
   "cell_type": "markdown",
   "id": "0424ee74",
   "metadata": {},
   "source": [
    "### Comparison in BATs with Flag "
   ]
  },
  {
   "cell_type": "code",
   "execution_count": 23,
   "id": "63779ce3",
   "metadata": {},
   "outputs": [
    {
     "data": {
      "text/html": [
       "<div>\n",
       "<style scoped>\n",
       "    .dataframe tbody tr th:only-of-type {\n",
       "        vertical-align: middle;\n",
       "    }\n",
       "\n",
       "    .dataframe tbody tr th {\n",
       "        vertical-align: top;\n",
       "    }\n",
       "\n",
       "    .dataframe thead th {\n",
       "        text-align: right;\n",
       "    }\n",
       "</style>\n",
       "<table border=\"1\" class=\"dataframe\">\n",
       "  <thead>\n",
       "    <tr style=\"text-align: right;\">\n",
       "      <th></th>\n",
       "      <th></th>\n",
       "      <th></th>\n",
       "      <th>standard_basis</th>\n",
       "      <th>standard_no_basis</th>\n",
       "      <th>clearing</th>\n",
       "      <th>compression</th>\n",
       "      <th>update</th>\n",
       "    </tr>\n",
       "    <tr>\n",
       "      <th>std</th>\n",
       "      <th>n_points</th>\n",
       "      <th>dimension</th>\n",
       "      <th></th>\n",
       "      <th></th>\n",
       "      <th></th>\n",
       "      <th></th>\n",
       "      <th></th>\n",
       "    </tr>\n",
       "  </thead>\n",
       "  <tbody>\n",
       "    <tr>\n",
       "      <th rowspan=\"2\" valign=\"top\">0.001</th>\n",
       "      <th rowspan=\"2\" valign=\"top\">100</th>\n",
       "      <th>2</th>\n",
       "      <td>0.388332</td>\n",
       "      <td>0.208164</td>\n",
       "      <td>0.206494</td>\n",
       "      <td>0.202591</td>\n",
       "      <td>0.202414</td>\n",
       "    </tr>\n",
       "    <tr>\n",
       "      <th>3</th>\n",
       "      <td>11.939154</td>\n",
       "      <td>6.480755</td>\n",
       "      <td>6.241965</td>\n",
       "      <td>5.166033</td>\n",
       "      <td>4.408238</td>\n",
       "    </tr>\n",
       "    <tr>\n",
       "      <th rowspan=\"2\" valign=\"top\">0.005</th>\n",
       "      <th rowspan=\"2\" valign=\"top\">100</th>\n",
       "      <th>2</th>\n",
       "      <td>0.500734</td>\n",
       "      <td>0.255261</td>\n",
       "      <td>0.253894</td>\n",
       "      <td>0.227085</td>\n",
       "      <td>0.222980</td>\n",
       "    </tr>\n",
       "    <tr>\n",
       "      <th>3</th>\n",
       "      <td>12.085571</td>\n",
       "      <td>6.839052</td>\n",
       "      <td>6.528163</td>\n",
       "      <td>5.417669</td>\n",
       "      <td>12.887104</td>\n",
       "    </tr>\n",
       "  </tbody>\n",
       "</table>\n",
       "</div>"
      ],
      "text/plain": [
       "                          standard_basis  standard_no_basis  clearing  \\\n",
       "std   n_points dimension                                                \n",
       "0.001 100      2                0.388332           0.208164  0.206494   \n",
       "               3               11.939154           6.480755  6.241965   \n",
       "0.005 100      2                0.500734           0.255261  0.253894   \n",
       "               3               12.085571           6.839052  6.528163   \n",
       "\n",
       "                          compression     update  \n",
       "std   n_points dimension                          \n",
       "0.001 100      2             0.202591   0.202414  \n",
       "               3             5.166033   4.408238  \n",
       "0.005 100      2             0.227085   0.222980  \n",
       "               3             5.417669  12.887104  "
      ]
     },
     "execution_count": 23,
     "metadata": {},
     "output_type": "execute_result"
    }
   ],
   "source": [
    "df3 = pd.read_csv('bats_flag_compare_to_updating.csv')\n",
    "df3.groupby(['std','n_points','dimension']).mean()"
   ]
  },
  {
   "cell_type": "markdown",
   "id": "bd4be3c9",
   "metadata": {},
   "source": [
    "### Comarison with other packages\n",
    "Be care the column 'topologylayer' is sometimes 0, because we do not compute it for its slowness."
   ]
  },
  {
   "cell_type": "code",
   "execution_count": 31,
   "id": "2b3febd4",
   "metadata": {},
   "outputs": [
    {
     "data": {
      "text/plain": [
       "n_points             100.000000\n",
       "dimension              2.000000\n",
       "std                    0.001000\n",
       "standard_basis         0.435853\n",
       "standard_no_basis      0.237171\n",
       "clearing               0.234364\n",
       "compression            0.224796\n",
       "update                 0.196185\n",
       "topologylayer          0.000000\n",
       "gudhi                  0.050523\n",
       "dionysus               0.739139\n",
       "ripser                 0.011950\n",
       "dtype: float64"
      ]
     },
     "execution_count": 31,
     "metadata": {},
     "output_type": "execute_result"
    }
   ],
   "source": [
    "import pandas as pd\n",
    "df = pd.read_csv('sphere_record100_H1.csv')\n",
    "df.mean()"
   ]
  },
  {
   "cell_type": "code",
   "execution_count": 30,
   "id": "d422b8cf",
   "metadata": {},
   "outputs": [
    {
     "data": {
      "text/plain": [
       "n_points             100.000000\n",
       "dimension              3.000000\n",
       "std                    0.001000\n",
       "standard_basis        20.444866\n",
       "standard_no_basis     10.604927\n",
       "clearing              10.223926\n",
       "compression            7.666793\n",
       "update                 6.819714\n",
       "topologylayer          0.000000\n",
       "gudhi                  2.302266\n",
       "dionysus              32.241005\n",
       "ripser                 0.167025\n",
       "dtype: float64"
      ]
     },
     "execution_count": 30,
     "metadata": {},
     "output_type": "execute_result"
    }
   ],
   "source": [
    "import pandas as pd\n",
    "df = pd.read_csv('sphere_record100_H2.csv')\n",
    "df.mean()"
   ]
  },
  {
   "cell_type": "markdown",
   "id": "69936ec0",
   "metadata": {},
   "source": [
    "## Optimization of Rips"
   ]
  },
  {
   "cell_type": "code",
   "execution_count": 54,
   "id": "26a93c8d",
   "metadata": {},
   "outputs": [
    {
     "data": {
      "text/plain": [
       "std_basis          1.654738e-01\n",
       "std_no_basis       9.742736e-02\n",
       "std_clearing       9.936113e-02\n",
       "std_compression    8.876377e-02\n",
       "update             8.898671e-02\n",
       "nnz_basis          9.936110e+03\n",
       "nnz_no_basis       9.936110e+03\n",
       "nnz_clear          9.936110e+03\n",
       "nnz_compress       9.084590e+03\n",
       "nnz_upd            1.019792e+06\n",
       "dtype: float64"
      ]
     },
     "execution_count": 54,
     "metadata": {},
     "output_type": "execute_result"
    }
   ],
   "source": [
    "import pandas as pd\n",
    "df5 = pd.read_csv('opt_enc_rips.csv')\n",
    "df5.mean()"
   ]
  },
  {
   "cell_type": "markdown",
   "id": "8d8db989",
   "metadata": {},
   "source": [
    "## Bunny"
   ]
  },
  {
   "cell_type": "code",
   "execution_count": 18,
   "id": "a2c62e22",
   "metadata": {},
   "outputs": [
    {
     "data": {
      "text/plain": [
       "standard_basis       61.121096\n",
       "standard_no_basis    28.483642\n",
       "clearing             28.419567\n",
       "compression          24.012001\n",
       "update               25.269536\n",
       "topologylayer         0.000000\n",
       "gudhi                 4.493279\n",
       "dionysus              0.000000\n",
       "ripser                0.084670\n",
       "dtype: float64"
      ]
     },
     "execution_count": 18,
     "metadata": {},
     "output_type": "execute_result"
    }
   ],
   "source": [
    "import pandas as pd\n",
    "df = pd.read_csv('bunny_record400_H1.csv')\n",
    "df.mean()"
   ]
  },
  {
   "cell_type": "markdown",
   "id": "69e2ddff",
   "metadata": {},
   "source": [
    "## Dragon"
   ]
  },
  {
   "cell_type": "code",
   "execution_count": 17,
   "id": "0bdf160a",
   "metadata": {},
   "outputs": [
    {
     "data": {
      "text/plain": [
       "standard_basis       47.999819\n",
       "standard_no_basis    20.305988\n",
       "clearing             20.256985\n",
       "compression          16.078695\n",
       "update               19.024916\n",
       "topologylayer         0.000000\n",
       "gudhi                 2.524282\n",
       "dionysus              0.000000\n",
       "ripser                0.075093\n",
       "dtype: float64"
      ]
     },
     "execution_count": 17,
     "metadata": {},
     "output_type": "execute_result"
    }
   ],
   "source": [
    "import pandas as pd\n",
    "df = pd.read_csv('dragon_record400_H1.csv')\n",
    "df.mean()"
   ]
  },
  {
   "cell_type": "markdown",
   "id": "14a3e7f8",
   "metadata": {},
   "source": [
    "## H3N2"
   ]
  },
  {
   "cell_type": "code",
   "execution_count": 18,
   "id": "b710a60b",
   "metadata": {},
   "outputs": [
    {
     "data": {
      "text/plain": [
       "standard_basis       9.192027\n",
       "standard_no_basis    5.758595\n",
       "clearing             5.685480\n",
       "compression          5.153021\n",
       "update               5.714532\n",
       "topologylayer        0.000000\n",
       "gudhi                2.698835\n",
       "dionysus             0.000000\n",
       "ripser               3.442184\n",
       "dtype: float64"
      ]
     },
     "execution_count": 18,
     "metadata": {},
     "output_type": "execute_result"
    }
   ],
   "source": [
    "import pandas as pd\n",
    "df = pd.read_csv('H3N2_record.csv')\n",
    "df.mean()"
   ]
  },
  {
   "cell_type": "code",
   "execution_count": 12,
   "id": "a800d09c",
   "metadata": {},
   "outputs": [
    {
     "data": {
      "text/plain": [
       "standard_basis       158.971069\n",
       "standard_no_basis    105.904937\n",
       "clearing             104.999920\n",
       "compression           97.100792\n",
       "update               117.541906\n",
       "topologylayer          0.000000\n",
       "gudhi                 57.221182\n",
       "dionysus               0.000000\n",
       "ripser                65.230054\n",
       "dtype: float64"
      ]
     },
     "execution_count": 12,
     "metadata": {},
     "output_type": "execute_result"
    }
   ],
   "source": [
    "import pandas as pd\n",
    "df = pd.read_csv('H3N2_record200.csv') # compute up to H2\n",
    "df.mean()"
   ]
  },
  {
   "cell_type": "code",
   "execution_count": 16,
   "id": "4c601598",
   "metadata": {},
   "outputs": [
    {
     "data": {
      "text/plain": [
       "standard_basis       2.503682\n",
       "standard_no_basis    1.552463\n",
       "clearing             1.540656\n",
       "compression          1.621170\n",
       "update               1.867409\n",
       "topologylayer        0.000000\n",
       "gudhi                0.599829\n",
       "dionysus             0.000000\n",
       "ripser               0.019629\n",
       "dtype: float64"
      ]
     },
     "execution_count": 16,
     "metadata": {},
     "output_type": "execute_result"
    }
   ],
   "source": [
    "import pandas as pd\n",
    "df = pd.read_csv('H3N2_record200_H1.csv') # compute up to H1\n",
    "df.mean()"
   ]
  },
  {
   "cell_type": "code",
   "execution_count": 20,
   "id": "b0259d94",
   "metadata": {},
   "outputs": [
    {
     "data": {
      "text/plain": [
       "standard_basis       28.350523\n",
       "standard_no_basis    17.626974\n",
       "clearing             17.508533\n",
       "compression          18.053020\n",
       "update               20.766845\n",
       "topologylayer         0.000000\n",
       "gudhi                 6.571999\n",
       "dionysus              0.000000\n",
       "ripser                0.082798\n",
       "dtype: float64"
      ]
     },
     "execution_count": 20,
     "metadata": {},
     "output_type": "execute_result"
    }
   ],
   "source": [
    "import pandas as pd\n",
    "df = pd.read_csv('H3N2_record400_H1.csv') # compute up to H1\n",
    "df.mean()"
   ]
  },
  {
   "cell_type": "markdown",
   "id": "31f5309a",
   "metadata": {},
   "source": [
    "## Klein"
   ]
  },
  {
   "cell_type": "code",
   "execution_count": 11,
   "id": "62877df9",
   "metadata": {
    "scrolled": false
   },
   "outputs": [
    {
     "data": {
      "text/plain": [
       "standard_basis       4.101115\n",
       "standard_no_basis    2.665651\n",
       "clearing             2.547773\n",
       "compression          2.389811\n",
       "update               3.202638\n",
       "topologylayer        0.000000\n",
       "gudhi                1.211843\n",
       "dionysus             0.000000\n",
       "ripser               1.679999\n",
       "dtype: float64"
      ]
     },
     "execution_count": 11,
     "metadata": {},
     "output_type": "execute_result"
    }
   ],
   "source": [
    "df = pd.read_csv('klein_record.csv')\n",
    "df.mean()"
   ]
  },
  {
   "cell_type": "code",
   "execution_count": 24,
   "id": "aa3f46d5",
   "metadata": {},
   "outputs": [
    {
     "data": {
      "text/plain": [
       "standard_basis       4.892279\n",
       "standard_no_basis    2.921320\n",
       "clearing             2.805372\n",
       "compression          2.493932\n",
       "update               2.532544\n",
       "topologylayer        0.000000\n",
       "gudhi                0.994829\n",
       "dionysus             0.000000\n",
       "ripser               0.078464\n",
       "dtype: float64"
      ]
     },
     "execution_count": 24,
     "metadata": {},
     "output_type": "execute_result"
    }
   ],
   "source": [
    "df = pd.read_csv('klein_record100_H2.csv')\n",
    "df.mean()"
   ]
  }
 ],
 "metadata": {
  "kernelspec": {
   "display_name": "Python [conda env:bats] *",
   "language": "python",
   "name": "conda-env-bats-py"
  },
  "language_info": {
   "codemirror_mode": {
    "name": "ipython",
    "version": 3
   },
   "file_extension": ".py",
   "mimetype": "text/x-python",
   "name": "python",
   "nbconvert_exporter": "python",
   "pygments_lexer": "ipython3",
   "version": "3.7.10"
  }
 },
 "nbformat": 4,
 "nbformat_minor": 5
}
